{
 "cells": [
  {
   "cell_type": "code",
   "execution_count": 1,
   "id": "94931560",
   "metadata": {},
   "outputs": [],
   "source": [
    "import pandas as pd\n",
    "import numpy as np\n",
    "import matplotlib.pyplot as plt\n",
    "import seaborn as sns\n",
    "import warnings\n",
    "warnings.filterwarnings('ignore')"
   ]
  },
  {
   "cell_type": "code",
   "execution_count": 2,
   "id": "cc11c1a8",
   "metadata": {},
   "outputs": [],
   "source": [
    "df = pd.read_excel(\"Cancer patient data.xlsx\")"
   ]
  },
  {
   "cell_type": "markdown",
   "id": "b2a5d6bd",
   "metadata": {},
   "source": [
    "#### Note1: Use 8/25/16 as the end date of the analysis."
   ]
  },
  {
   "cell_type": "code",
   "execution_count": 3,
   "id": "89b113b4",
   "metadata": {},
   "outputs": [],
   "source": [
    "end_date = pd.to_datetime('2016-08-25')"
   ]
  },
  {
   "cell_type": "markdown",
   "id": "c5b2818e",
   "metadata": {},
   "source": [
    "#### Note4: Remove all patients who do not have a diagnosis date."
   ]
  },
  {
   "cell_type": "code",
   "execution_count": 4,
   "id": "93ddc494",
   "metadata": {},
   "outputs": [],
   "source": [
    "diagnosis_date = [\"LUNG DT\",\"PANCREAS_DT\",\"THYROID_DT\",\"COLORECTAL_DT\",\"MELANOMA_DT\"]\n",
    "df = df.dropna(how = \"all\",subset = diagnosis_date).reset_index(drop=True)"
   ]
  },
  {
   "cell_type": "markdown",
   "id": "ab084ac9",
   "metadata": {},
   "source": [
    "#### Note2. Remove all patients who were diagnosed after 8/25/16."
   ]
  },
  {
   "cell_type": "code",
   "execution_count": 5,
   "id": "3d83d272",
   "metadata": {},
   "outputs": [],
   "source": [
    "df = df.drop(np.where(df[diagnosis_date] > end_date)[0]).reset_index(drop=True)"
   ]
  },
  {
   "cell_type": "markdown",
   "id": "79e005f3",
   "metadata": {},
   "source": [
    "#### Note3. Keep patients who died after 8/25/16 (you need to censor this data)."
   ]
  },
  {
   "cell_type": "code",
   "execution_count": 6,
   "id": "c4df2f7f",
   "metadata": {},
   "outputs": [],
   "source": [
    "# belonging to right censored\n",
    "# df_die_after_enddate = df.iloc[np.where(df[\"DEATH_DATE_off\"]>end_date)] and NAN"
   ]
  },
  {
   "cell_type": "markdown",
   "id": "bf4294ec",
   "metadata": {},
   "source": [
    "#### Note5.Categorize race into White, African-American, Asian/Mideast-Indian, and Others."
   ]
  },
  {
   "cell_type": "code",
   "execution_count": 7,
   "id": "79b98321",
   "metadata": {},
   "outputs": [
    {
     "data": {
      "text/plain": [
       "White                   2815\n",
       "African-American         956\n",
       "Others                   258\n",
       "Asian/Mideast-Indian     117\n",
       "Name: race, dtype: int64"
      ]
     },
     "execution_count": 7,
     "metadata": {},
     "output_type": "execute_result"
    }
   ],
   "source": [
    "to_replace_values = ['White', 'Black/African-American', 'Unknown', 'Asian/Mideast Indian',\n",
    "        'More than one Race', 'Patient Declined','Native Hawaiian/Other Pacific Islander',\n",
    "        'American Indian or Alaska Native']\n",
    "\n",
    "replace_values = ['White','African-American','Others','Asian/Mideast-Indian',\n",
    "                  'Others','Others','Others','Others']\n",
    "\n",
    "df = df.replace(to_replace = to_replace_values, value = replace_values)\n",
    "df[\"race\"].value_counts()"
   ]
  },
  {
   "cell_type": "code",
   "execution_count": 8,
   "id": "af911681",
   "metadata": {},
   "outputs": [],
   "source": [
    "# break into each cancer \n",
    "use_cols = [\"sex\",\"race\",\"DEATH_DATE_off\",\"BIRTH_DATE_off\"]\n",
    "df_LUNG = df[df[\"LUNG\"] == 1][use_cols+[\"LUNG DT\"]]\n",
    "df_PANCREAS = df[df[\"PANCREAS\"] == 1][use_cols+[\"PANCREAS_DT\"]]\n",
    "df_THYROID = df[df[\"THYROID\"] == 1][use_cols+[\"THYROID_DT\"]]\n",
    "df_COLORECTAL = df[df[\"COLORECTAL\"] == 1][use_cols+[\"COLORECTAL_DT\"]]\n",
    "df_MELANOMA = df[df[\"MELANOMA\"] == 1][use_cols+[\"MELANOMA_DT\"]]"
   ]
  },
  {
   "cell_type": "code",
   "execution_count": 9,
   "id": "5ca39443",
   "metadata": {},
   "outputs": [],
   "source": [
    "df_list = [df_LUNG,df_PANCREAS,df_THYROID,df_COLORECTAL,df_MELANOMA]\n",
    "diag_list = ['LUNG DT','PANCREAS_DT','THYROID_DT','COLORECTAL_DT','MELANOMA_DT']"
   ]
  },
  {
   "cell_type": "code",
   "execution_count": 10,
   "id": "e7dabc54",
   "metadata": {},
   "outputs": [],
   "source": [
    "for i,j in zip(df_list,diag_list):\n",
    "    # Calculate the age of each patient at the time of cancer diagnosis.\n",
    "    i[\"AGE\"] = (i[j] - i[\"BIRTH_DATE_off\"]).astype('timedelta64[Y]')\n",
    "    \n",
    "    # category age group in deciles (11-20, 21-30, ....) \n",
    "    age_decile = pd.interval_range(0,110,11)\n",
    "    for m in range(len(i)):\n",
    "        for n in range(len(age_decile)):\n",
    "            if i.iloc[m,5] in age_decile[n]:\n",
    "                i.iloc[m,5] = age_decile[n]\n",
    "                break\n",
    "    # if die earlier than analysis end date, duration is analysis end date - death date\n",
    "    # otherwise duration is analysis end date - diagonis date, belonging to right censored\n",
    "    i['duration_days'] = np.where((i['DEATH_DATE_off'] <= end_date),\n",
    "                                       (i['DEATH_DATE_off'] - i[j]).dt.days,\n",
    "                                       (end_date - i[j]).dt.days)\n",
    "    \n",
    "    # get whether each patient is still alive\n",
    "    i['dead'] = np.where(i['DEATH_DATE_off'] <= end_date, 1, 0) "
   ]
  },
  {
   "cell_type": "code",
   "execution_count": 11,
   "id": "8c446d59",
   "metadata": {},
   "outputs": [
    {
     "data": {
      "text/html": [
       "<div>\n",
       "<style scoped>\n",
       "    .dataframe tbody tr th:only-of-type {\n",
       "        vertical-align: middle;\n",
       "    }\n",
       "\n",
       "    .dataframe tbody tr th {\n",
       "        vertical-align: top;\n",
       "    }\n",
       "\n",
       "    .dataframe thead th {\n",
       "        text-align: right;\n",
       "    }\n",
       "</style>\n",
       "<table border=\"1\" class=\"dataframe\">\n",
       "  <thead>\n",
       "    <tr style=\"text-align: right;\">\n",
       "      <th></th>\n",
       "      <th>sex</th>\n",
       "      <th>race</th>\n",
       "      <th>DEATH_DATE_off</th>\n",
       "      <th>BIRTH_DATE_off</th>\n",
       "      <th>PANCREAS_DT</th>\n",
       "      <th>AGE</th>\n",
       "      <th>duration_days</th>\n",
       "      <th>dead</th>\n",
       "    </tr>\n",
       "  </thead>\n",
       "  <tbody>\n",
       "    <tr>\n",
       "      <th>24</th>\n",
       "      <td>Female</td>\n",
       "      <td>African-American</td>\n",
       "      <td>2012-11-22</td>\n",
       "      <td>1955-03-10</td>\n",
       "      <td>2012-10-12</td>\n",
       "      <td>(50, 60]</td>\n",
       "      <td>41.0</td>\n",
       "      <td>1</td>\n",
       "    </tr>\n",
       "    <tr>\n",
       "      <th>30</th>\n",
       "      <td>Female</td>\n",
       "      <td>African-American</td>\n",
       "      <td>NaT</td>\n",
       "      <td>1929-06-27</td>\n",
       "      <td>2016-01-27</td>\n",
       "      <td>(80, 90]</td>\n",
       "      <td>211.0</td>\n",
       "      <td>0</td>\n",
       "    </tr>\n",
       "    <tr>\n",
       "      <th>32</th>\n",
       "      <td>Male</td>\n",
       "      <td>White</td>\n",
       "      <td>NaT</td>\n",
       "      <td>1938-06-24</td>\n",
       "      <td>2013-11-19</td>\n",
       "      <td>(70, 80]</td>\n",
       "      <td>1010.0</td>\n",
       "      <td>0</td>\n",
       "    </tr>\n",
       "    <tr>\n",
       "      <th>42</th>\n",
       "      <td>Male</td>\n",
       "      <td>African-American</td>\n",
       "      <td>2016-11-21</td>\n",
       "      <td>1952-08-30</td>\n",
       "      <td>2014-10-27</td>\n",
       "      <td>(60, 70]</td>\n",
       "      <td>668.0</td>\n",
       "      <td>0</td>\n",
       "    </tr>\n",
       "    <tr>\n",
       "      <th>52</th>\n",
       "      <td>Male</td>\n",
       "      <td>African-American</td>\n",
       "      <td>2016-04-22</td>\n",
       "      <td>1956-07-15</td>\n",
       "      <td>2016-03-13</td>\n",
       "      <td>(50, 60]</td>\n",
       "      <td>40.0</td>\n",
       "      <td>1</td>\n",
       "    </tr>\n",
       "    <tr>\n",
       "      <th>...</th>\n",
       "      <td>...</td>\n",
       "      <td>...</td>\n",
       "      <td>...</td>\n",
       "      <td>...</td>\n",
       "      <td>...</td>\n",
       "      <td>...</td>\n",
       "      <td>...</td>\n",
       "      <td>...</td>\n",
       "    </tr>\n",
       "    <tr>\n",
       "      <th>4127</th>\n",
       "      <td>Male</td>\n",
       "      <td>White</td>\n",
       "      <td>NaT</td>\n",
       "      <td>1946-03-15</td>\n",
       "      <td>2015-06-28</td>\n",
       "      <td>(60, 70]</td>\n",
       "      <td>424.0</td>\n",
       "      <td>0</td>\n",
       "    </tr>\n",
       "    <tr>\n",
       "      <th>4129</th>\n",
       "      <td>Male</td>\n",
       "      <td>White</td>\n",
       "      <td>NaT</td>\n",
       "      <td>1946-07-17</td>\n",
       "      <td>2016-07-20</td>\n",
       "      <td>(60, 70]</td>\n",
       "      <td>36.0</td>\n",
       "      <td>0</td>\n",
       "    </tr>\n",
       "    <tr>\n",
       "      <th>4130</th>\n",
       "      <td>Female</td>\n",
       "      <td>African-American</td>\n",
       "      <td>NaT</td>\n",
       "      <td>1948-10-02</td>\n",
       "      <td>2015-05-10</td>\n",
       "      <td>(60, 70]</td>\n",
       "      <td>473.0</td>\n",
       "      <td>0</td>\n",
       "    </tr>\n",
       "    <tr>\n",
       "      <th>4131</th>\n",
       "      <td>Female</td>\n",
       "      <td>White</td>\n",
       "      <td>NaT</td>\n",
       "      <td>1947-03-14</td>\n",
       "      <td>2015-04-25</td>\n",
       "      <td>(60, 70]</td>\n",
       "      <td>488.0</td>\n",
       "      <td>0</td>\n",
       "    </tr>\n",
       "    <tr>\n",
       "      <th>4132</th>\n",
       "      <td>Male</td>\n",
       "      <td>Others</td>\n",
       "      <td>NaT</td>\n",
       "      <td>1952-03-11</td>\n",
       "      <td>2015-04-25</td>\n",
       "      <td>(60, 70]</td>\n",
       "      <td>488.0</td>\n",
       "      <td>0</td>\n",
       "    </tr>\n",
       "  </tbody>\n",
       "</table>\n",
       "<p>658 rows × 8 columns</p>\n",
       "</div>"
      ],
      "text/plain": [
       "         sex              race DEATH_DATE_off BIRTH_DATE_off PANCREAS_DT  \\\n",
       "24    Female  African-American     2012-11-22     1955-03-10  2012-10-12   \n",
       "30    Female  African-American            NaT     1929-06-27  2016-01-27   \n",
       "32      Male             White            NaT     1938-06-24  2013-11-19   \n",
       "42      Male  African-American     2016-11-21     1952-08-30  2014-10-27   \n",
       "52      Male  African-American     2016-04-22     1956-07-15  2016-03-13   \n",
       "...      ...               ...            ...            ...         ...   \n",
       "4127    Male             White            NaT     1946-03-15  2015-06-28   \n",
       "4129    Male             White            NaT     1946-07-17  2016-07-20   \n",
       "4130  Female  African-American            NaT     1948-10-02  2015-05-10   \n",
       "4131  Female             White            NaT     1947-03-14  2015-04-25   \n",
       "4132    Male            Others            NaT     1952-03-11  2015-04-25   \n",
       "\n",
       "           AGE  duration_days  dead  \n",
       "24    (50, 60]           41.0     1  \n",
       "30    (80, 90]          211.0     0  \n",
       "32    (70, 80]         1010.0     0  \n",
       "42    (60, 70]          668.0     0  \n",
       "52    (50, 60]           40.0     1  \n",
       "...        ...            ...   ...  \n",
       "4127  (60, 70]          424.0     0  \n",
       "4129  (60, 70]           36.0     0  \n",
       "4130  (60, 70]          473.0     0  \n",
       "4131  (60, 70]          488.0     0  \n",
       "4132  (60, 70]          488.0     0  \n",
       "\n",
       "[658 rows x 8 columns]"
      ]
     },
     "execution_count": 11,
     "metadata": {},
     "output_type": "execute_result"
    }
   ],
   "source": [
    "# a cleaned data example \n",
    "df_PANCREAS"
   ]
  },
  {
   "cell_type": "markdown",
   "id": "21a7696c",
   "metadata": {},
   "source": [
    "#### Plot kmf by sex"
   ]
  },
  {
   "cell_type": "code",
   "execution_count": 12,
   "id": "df22e92b",
   "metadata": {},
   "outputs": [],
   "source": [
    "from lifelines import KaplanMeierFitter\n",
    "def plot_kmf_by_sex(df):\n",
    "    kmf = KaplanMeierFitter() \n",
    "\n",
    "    T = df['duration_days']     ## time to event\n",
    "    E = df['dead']      ## event occurred or censored\n",
    "\n",
    "    groups = df['sex']             \n",
    "    ix1 = (groups == 'Male')   ## Cohort 1\n",
    "    ix2 = (groups == 'Female')         ## Cohort 2\n",
    "\n",
    "    kmf.fit(T[ix1], E[ix1], label='Male')    ## fit the cohort 1 data\n",
    "    ax1 = kmf.plot(ci_show=False)\n",
    "\n",
    "    kmf.fit(T[ix2], E[ix2], label='Female')         ## fit the cohort 2 data\n",
    "    ax2 = kmf.plot(ax=ax1,ci_show=False)"
   ]
  },
  {
   "cell_type": "code",
   "execution_count": 13,
   "id": "e5baa655",
   "metadata": {},
   "outputs": [
    {
     "data": {
      "image/png": "[encoded data removed]",
      "text/plain": [
       "<Figure size 1440x288 with 5 Axes>"
      ]
     },
     "metadata": {
      "needs_background": "light"
     },
     "output_type": "display_data"
    }
   ],
   "source": [
    "plt.figure(figsize=(20, 4))\n",
    "plt.subplot(1,5,1)\n",
    "plot_kmf_by_sex(df_LUNG)\n",
    "plt.title(\"LUNG\")\n",
    "\n",
    "plt.subplot(1,5,2)\n",
    "plot_kmf_by_sex(df_PANCREAS)\n",
    "plt.title(\"PANCREAS\")\n",
    "\n",
    "plt.subplot(1,5,3)\n",
    "plot_kmf_by_sex(df_THYROID)\n",
    "plt.title(\"THYROID\")\n",
    "\n",
    "plt.subplot(1,5,4)\n",
    "plot_kmf_by_sex(df_COLORECTAL)\n",
    "plt.title(\"COLORECTAL\")\n",
    "\n",
    "plt.subplot(1,5,5)\n",
    "plot_kmf_by_sex(df_MELANOMA)\n",
    "plt.title(\"MELANOMA\")\n",
    "\n",
    "plt.tight_layout()\n",
    "plt.show()"
   ]
  },
  {
   "cell_type": "markdown",
   "id": "45eddae6",
   "metadata": {},
   "source": [
    "#### Plot kmf by race"
   ]
  },
  {
   "cell_type": "code",
   "execution_count": 14,
   "id": "eb2c9f53",
   "metadata": {},
   "outputs": [],
   "source": [
    "def plot_kmf_by_race(df):\n",
    "    kmf = KaplanMeierFitter() \n",
    "\n",
    "    T = df['duration_days']     ## time to event\n",
    "    E = df['dead']      ## event occurred or censored\n",
    "\n",
    "    groups = df['race']             \n",
    "    ix1 = (groups == 'White')   ## Cohort 1\n",
    "    ix2 = (groups == 'African-American')         ## Cohort 2\n",
    "    ix3 = (groups == 'Asian/Mideast-Indian')         ## Cohort 3\n",
    "    ix4 = (groups == 'Others')         ## Cohort 4\n",
    "\n",
    "    kmf.fit(T[ix1], E[ix1], label='White')    \n",
    "    ax1 = kmf.plot(ci_show=False)\n",
    "\n",
    "    kmf.fit(T[ix2], E[ix2], label='African-American')        \n",
    "    ax2 = kmf.plot(ax=ax1,ci_show=False)\n",
    "\n",
    "    kmf.fit(T[ix3], E[ix3], label='Asian/Mideast-Indian')         \n",
    "    ax3 = kmf.plot(ax=ax2,ci_show=False)\n",
    "\n",
    "    kmf.fit(T[ix4], E[ix4], label='Others')     \n",
    "    ax4 = kmf.plot(ax=ax3,ci_show=False)"
   ]
  },
  {
   "cell_type": "code",
   "execution_count": 15,
   "id": "3ab84f51",
   "metadata": {},
   "outputs": [
    {
     "data": {
      "image/png": "[encoded data removed]",
      "text/plain": [
       "<Figure size 1440x288 with 5 Axes>"
      ]
     },
     "metadata": {
      "needs_background": "light"
     },
     "output_type": "display_data"
    }
   ],
   "source": [
    "plt.figure(figsize=(20, 4))\n",
    "plt.subplot(1,5,1)\n",
    "plot_kmf_by_race(df_LUNG)\n",
    "plt.title(\"LUNG\")\n",
    "\n",
    "plt.subplot(1,5,2)\n",
    "plot_kmf_by_race(df_PANCREAS)\n",
    "plt.title(\"PANCREAS\")\n",
    "\n",
    "plt.subplot(1,5,3)\n",
    "plot_kmf_by_race(df_THYROID)\n",
    "plt.title(\"THYROID\")\n",
    "\n",
    "plt.subplot(1,5,4)\n",
    "plot_kmf_by_race(df_COLORECTAL)\n",
    "plt.title(\"COLORECTAL\")\n",
    "\n",
    "plt.subplot(1,5,5)\n",
    "plot_kmf_by_race(df_MELANOMA)\n",
    "plt.title(\"MELANOMA\")\n",
    "\n",
    "plt.tight_layout()\n",
    "plt.show()"
   ]
  },
  {
   "cell_type": "markdown",
   "id": "6ba8676e",
   "metadata": {},
   "source": [
    "#### Plot kmf by age group(decile)"
   ]
  },
  {
   "cell_type": "code",
   "execution_count": 16,
   "id": "93d91649",
   "metadata": {},
   "outputs": [],
   "source": [
    "def plot_kmf_by_age_group_LUNG(df):\n",
    "    kmf = KaplanMeierFitter() \n",
    "\n",
    "    T = df['duration_days']     ## time to event\n",
    "    E = df['dead']      ## event occurred or censored\n",
    "    \n",
    "    df[\"AGE\"] = df[\"AGE\"].astype(str)\n",
    "    groups = df['AGE'] \n",
    "    ix = (groups == '(0, 10]')\n",
    "   \n",
    "    kmf.fit(T[ix], E[ix], label='(0, 10]') \n",
    "    \n",
    "    ax = kmf.plot(ci_show=False)\n",
    "    for i in age_decile[1:]:\n",
    "        ix = (groups == str(i))\n",
    "        kmf.fit(T[ix], E[ix], label=str(i))    \n",
    "        ax = kmf.plot(ax = ax, ci_show=False)\n",
    "\n",
    "       \n",
    "def plot_kmf_by_age_group_PANCREAS(df):\n",
    "    kmf = KaplanMeierFitter() \n",
    "\n",
    "    T = df['duration_days']     ## time to event\n",
    "    E = df['dead']      ## event occurred or censored\n",
    "    \n",
    "    df[\"AGE\"] = df[\"AGE\"].astype(str)\n",
    "    groups = df['AGE'] \n",
    "    ix = (groups == '(20, 30]')\n",
    "   \n",
    "    kmf.fit(T[ix], E[ix], label='(20, 30]') \n",
    "    \n",
    "    ax = kmf.plot(ci_show=False)\n",
    "    for i in age_decile[3:10]:\n",
    "        ix = (groups == str(i))\n",
    "        kmf.fit(T[ix], E[ix], label=str(i))    \n",
    "        ax = kmf.plot(ax = ax, ci_show=False)\n",
    "        \n",
    "def plot_kmf_by_age_group_THYROID(df):\n",
    "    kmf = KaplanMeierFitter() \n",
    "\n",
    "    T = df['duration_days']     ## time to event\n",
    "    E = df['dead']      ## event occurred or censored\n",
    "    \n",
    "    df[\"AGE\"] = df[\"AGE\"].astype(str)\n",
    "    groups = df['AGE'] \n",
    "    ix = (groups == '(10, 20]')\n",
    "   \n",
    "    kmf.fit(T[ix], E[ix], label='(10, 20]') \n",
    "    \n",
    "    ax = kmf.plot(ci_show=False)\n",
    "    for i in age_decile[1:9]:\n",
    "        ix = (groups == str(i))\n",
    "        kmf.fit(T[ix], E[ix], label=str(i))    \n",
    "        ax = kmf.plot(ax = ax, ci_show=False)   \n",
    "\n",
    "        \n",
    "\n",
    "def plot_kmf_by_age_group_COLORECTAL_MELANOMA(df):\n",
    "    kmf = KaplanMeierFitter() \n",
    "\n",
    "    T = df['duration_days']     ## time to event\n",
    "    E = df['dead']      ## event occurred or censored\n",
    "    \n",
    "    df[\"AGE\"] = df[\"AGE\"].astype(str)\n",
    "    groups = df['AGE'] \n",
    "    ix = (groups == '(10, 20]')\n",
    "   \n",
    "    kmf.fit(T[ix], E[ix], label='(10, 20]') \n",
    "    \n",
    "    ax = kmf.plot(ci_show=False)\n",
    "    for i in age_decile[2:10]:\n",
    "        ix = (groups == str(i))\n",
    "        kmf.fit(T[ix], E[ix], label=str(i))    \n",
    "        ax = kmf.plot(ax = ax, ci_show=False)\n",
    "  "
   ]
  },
  {
   "cell_type": "code",
   "execution_count": 17,
   "id": "845a23b9",
   "metadata": {},
   "outputs": [
    {
     "data": {
      "image/png": "[encoded data removed]",
      "text/plain": [
       "<Figure size 1440x288 with 5 Axes>"
      ]
     },
     "metadata": {
      "needs_background": "light"
     },
     "output_type": "display_data"
    }
   ],
   "source": [
    "plt.figure(figsize=(20, 4))\n",
    "plt.subplot(1,5,1)\n",
    "plot_kmf_by_age_group_LUNG(df_LUNG)\n",
    "plt.title(\"LUNG\")\n",
    "\n",
    "plt.subplot(1,5,2)\n",
    "plot_kmf_by_age_group_PANCREAS(df_PANCREAS)\n",
    "plt.title(\"PANCREAS\")\n",
    "\n",
    "plt.subplot(1,5,3)\n",
    "plot_kmf_by_age_group_THYROID(df_THYROID)\n",
    "plt.title(\"THYROID\")\n",
    "\n",
    "plt.subplot(1,5,4)\n",
    "plot_kmf_by_age_group_COLORECTAL_MELANOMA(df_COLORECTAL)\n",
    "plt.title(\"COLORECTAL\")\n",
    "\n",
    "plt.subplot(1,5,5)\n",
    "plot_kmf_by_age_group_COLORECTAL_MELANOMA(df_MELANOMA)\n",
    "plt.title(\"MELANOMA\")\n",
    "\n",
    "plt.tight_layout()\n",
    "plt.show()"
   ]
  },
  {
   "cell_type": "markdown",
   "id": "a3274529",
   "metadata": {},
   "source": [
    "#### 1.which cancer has the highest survival for this cohort?\n",
    "\n"
   ]
  },
  {
   "cell_type": "code",
   "execution_count": 18,
   "id": "1c3e2b5b",
   "metadata": {},
   "outputs": [
    {
     "name": "stdout",
     "output_type": "stream",
     "text": [
      "Mean survival rate of LUNG: 0.882\n",
      "Mean survival rate of PANCREAS: 0.951\n",
      "Mean survival rate of THYROID: 0.989\n",
      "Mean survival rate of COLORECTAL: 0.939\n",
      "Mean survival rate of MELANOMA: 0.951\n"
     ]
    }
   ],
   "source": [
    "dt_name = [\"LUNG\",\"PANCREAS\",\"THYROID\",\"COLORECTAL\",\"MELANOMA\"]\n",
    "for data,name in zip(df_list,dt_name):\n",
    "    kmf = KaplanMeierFitter() \n",
    "    T = data['duration_days']    \n",
    "    E = data['dead']     \n",
    "    kmf.fit(T, E)\n",
    "    print(\"Mean survival rate of \"+str(name)+\":\",np.round(np.mean(kmf.survival_function_.values),3))"
   ]
  },
  {
   "cell_type": "markdown",
   "id": "d2a8841b",
   "metadata": {},
   "source": [
    "THYROID has the highest survival rate, which mean survival rate reached 0.989"
   ]
  },
  {
   "cell_type": "markdown",
   "id": "15edc986",
   "metadata": {},
   "source": [
    "#### 2.which cancer has the lowest survival for this cohort?"
   ]
  },
  {
   "cell_type": "markdown",
   "id": "76c888d0",
   "metadata": {},
   "source": [
    "LUNG has the lowest survival rate, which mean survival rate was 0.882"
   ]
  },
  {
   "cell_type": "markdown",
   "id": "8e6b7ab4",
   "metadata": {},
   "source": [
    "#### 3.how many patients had 2 cancer diagnosis?"
   ]
  },
  {
   "cell_type": "code",
   "execution_count": 19,
   "id": "0207cbee",
   "metadata": {},
   "outputs": [
    {
     "data": {
      "text/plain": [
       "29"
      ]
     },
     "execution_count": 19,
     "metadata": {},
     "output_type": "execute_result"
    }
   ],
   "source": [
    "len(df[df[dt_name].sum(axis=1)>1])"
   ]
  },
  {
   "cell_type": "markdown",
   "id": "ab1ba74b",
   "metadata": {},
   "source": [
    "#### 4.which age group has the lowest survival after 400 days since cancer diagnosis?"
   ]
  },
  {
   "cell_type": "code",
   "execution_count": 20,
   "id": "906df660",
   "metadata": {},
   "outputs": [
    {
     "name": "stdout",
     "output_type": "stream",
     "text": [
      "Survival rate of age Group:(0, 10] after 400 days: 1.0\n",
      "Survival rate of age Group:(10, 20] after 400 days: 1.0\n",
      "Survival rate of age Group:(20, 30] after 400 days: 0.9914\n",
      "Survival rate of age Group:(30, 40] after 400 days: 0.9915\n",
      "Survival rate of age Group:(40, 50] after 400 days: 0.9849\n",
      "Survival rate of age Group:(50, 60] after 400 days: 0.9549\n",
      "Survival rate of age Group:(60, 70] after 400 days: 0.9513\n",
      "Survival rate of age Group:(70, 80] after 400 days: 0.9241\n",
      "Survival rate of age Group:(80, 90] after 400 days: 0.9359\n",
      "Survival rate of age Group:(90, 100] after 400 days: 0.8199\n",
      "Survival rate of age Group:(100, 110] after 400 days: 0.0\n"
     ]
    }
   ],
   "source": [
    "all_cancer = pd.concat([df_LUNG,df_PANCREAS,df_THYROID,df_COLORECTAL,df_MELANOMA])\n",
    "all_cancer[\"AGE\"] = all_cancer[\"AGE\"].astype(str)\n",
    "groups = all_cancer['AGE'] \n",
    "kmf = KaplanMeierFitter() \n",
    "T = all_cancer['duration_days']    \n",
    "E = all_cancer['dead']     \n",
    "for i in age_decile:\n",
    "    ix = (groups == str(i))\n",
    "    kmf.fit(T[ix], E[ix], label=str(i))\n",
    "    print(\"Survival rate of age Group:\"+str(i)+\" after 400 days:\",np.round(kmf.predict(400),4))"
   ]
  },
  {
   "cell_type": "markdown",
   "id": "66610edf",
   "metadata": {},
   "source": [
    "After 400 days, age group of (100-110] has the lowest survival rate which is 0, but it's out of a small sample size, so except this, age group of (90-100] will be the lowest survival rate which is is 0.8199."
   ]
  },
  {
   "cell_type": "markdown",
   "id": "8b52aa39",
   "metadata": {},
   "source": [
    "#### 5.what is the survival rate for females with colorectal cancer after 1000 days since diagnosis?"
   ]
  },
  {
   "cell_type": "code",
   "execution_count": 21,
   "id": "5e36ccd4",
   "metadata": {},
   "outputs": [],
   "source": [
    "def pred_survival_rate(df,group,value,days):\n",
    "    kmf = KaplanMeierFitter() \n",
    "\n",
    "    T = df['duration_days']     ## time to event\n",
    "    E = df['dead']      ## event occurred or censored\n",
    "           \n",
    "    ix1 = (df[group] == value) \n",
    "\n",
    "    kmf.fit(T[ix1], E[ix1], label=value)  \n",
    "    print(np.round(kmf.predict(days),4))"
   ]
  },
  {
   "cell_type": "code",
   "execution_count": 22,
   "id": "d8ff4300",
   "metadata": {},
   "outputs": [
    {
     "name": "stdout",
     "output_type": "stream",
     "text": [
      "0.9484\n"
     ]
    }
   ],
   "source": [
    "pred_survival_rate(df_COLORECTAL,'sex','Female',1000)"
   ]
  },
  {
   "cell_type": "markdown",
   "id": "e9b5674a",
   "metadata": {},
   "source": [
    "#### 6.what is the survival rate for females with colorectal cancer after 1000 days since diagnosis?"
   ]
  },
  {
   "cell_type": "code",
   "execution_count": 23,
   "id": "66aa2dda",
   "metadata": {},
   "outputs": [
    {
     "name": "stdout",
     "output_type": "stream",
     "text": [
      "0.915\n"
     ]
    }
   ],
   "source": [
    "pred_survival_rate(df_LUNG,'sex','Male',300)"
   ]
  },
  {
   "cell_type": "markdown",
   "id": "60a00018",
   "metadata": {},
   "source": [
    "#### 7.what is the survival rate for females with melanoma cancer after 1200 days since diagnosis?"
   ]
  },
  {
   "cell_type": "code",
   "execution_count": 24,
   "id": "354d27e0",
   "metadata": {},
   "outputs": [
    {
     "name": "stdout",
     "output_type": "stream",
     "text": [
      "0.9588\n"
     ]
    }
   ],
   "source": [
    "pred_survival_rate(df_MELANOMA,'sex','Female',1200)"
   ]
  },
  {
   "cell_type": "markdown",
   "id": "b38961c4",
   "metadata": {},
   "source": [
    "#### 8.what is the survival rate for males with thyroid cancer after 1500 days since diagnosis?"
   ]
  },
  {
   "cell_type": "code",
   "execution_count": 25,
   "id": "de93168d",
   "metadata": {},
   "outputs": [
    {
     "name": "stdout",
     "output_type": "stream",
     "text": [
      "0.9723\n"
     ]
    }
   ],
   "source": [
    "pred_survival_rate(df_THYROID,'sex','Male',1500)"
   ]
  },
  {
   "cell_type": "markdown",
   "id": "41bbecf8",
   "metadata": {},
   "source": [
    "#### 9.what is the survival rate for males with pancreatic cancer after 2200 days since diagnosis?"
   ]
  },
  {
   "cell_type": "code",
   "execution_count": 26,
   "id": "43074d05",
   "metadata": {},
   "outputs": [
    {
     "name": "stdout",
     "output_type": "stream",
     "text": [
      "0.9527\n"
     ]
    }
   ],
   "source": [
    "pred_survival_rate(df_PANCREAS,'sex','Male',2200)"
   ]
  },
  {
   "cell_type": "markdown",
   "id": "d164230b",
   "metadata": {},
   "source": [
    "#### 10.what is the survival rate for African-Americans with colorectal cancer after 2000 days since diagnosis?"
   ]
  },
  {
   "cell_type": "code",
   "execution_count": 27,
   "id": "87c3584a",
   "metadata": {},
   "outputs": [
    {
     "name": "stdout",
     "output_type": "stream",
     "text": [
      "0.7706\n"
     ]
    }
   ],
   "source": [
    "pred_survival_rate(df_COLORECTAL,'race','African-American',2000)"
   ]
  },
  {
   "cell_type": "markdown",
   "id": "cb155ef4",
   "metadata": {},
   "source": [
    "#### 11.what is the survival rate for Whites with lung cancer after 1000 days since diagnosis?"
   ]
  },
  {
   "cell_type": "code",
   "execution_count": 28,
   "id": "23a942a7",
   "metadata": {},
   "outputs": [
    {
     "name": "stdout",
     "output_type": "stream",
     "text": [
      "0.9093\n"
     ]
    }
   ],
   "source": [
    "pred_survival_rate(df_LUNG,'race','White',1000)"
   ]
  },
  {
   "cell_type": "markdown",
   "id": "cf977bea",
   "metadata": {},
   "source": [
    "#### 12.what is the survival rate for African-Americans with melanoma cancer after 2 years since diagnosis?"
   ]
  },
  {
   "cell_type": "code",
   "execution_count": 29,
   "id": "8d3595a8",
   "metadata": {},
   "outputs": [
    {
     "name": "stdout",
     "output_type": "stream",
     "text": [
      "0.8254\n"
     ]
    }
   ],
   "source": [
    "pred_survival_rate(df_MELANOMA,'race','African-American',365*2)"
   ]
  },
  {
   "cell_type": "markdown",
   "id": "b8c22131",
   "metadata": {},
   "source": [
    "#### 13.what is the survival rate for Whites with pancreatic cancer after 3 years since diagnosis?"
   ]
  },
  {
   "cell_type": "code",
   "execution_count": 30,
   "id": "f21bd57c",
   "metadata": {},
   "outputs": [
    {
     "name": "stdout",
     "output_type": "stream",
     "text": [
      "0.9653\n"
     ]
    }
   ],
   "source": [
    "pred_survival_rate(df_PANCREAS,'race','White',365*3)"
   ]
  },
  {
   "cell_type": "markdown",
   "id": "ac98128b",
   "metadata": {},
   "source": [
    "#### 14.what is the survival rate for Asians with thyroid cancer after 1500 days since diagnosis?"
   ]
  },
  {
   "cell_type": "code",
   "execution_count": 31,
   "id": "a319574f",
   "metadata": {},
   "outputs": [
    {
     "name": "stdout",
     "output_type": "stream",
     "text": [
      "0.9286\n"
     ]
    }
   ],
   "source": [
    "pred_survival_rate(df_THYROID,'race','Asian/Mideast-Indian',1500)"
   ]
  },
  {
   "cell_type": "markdown",
   "id": "d7fa86d6",
   "metadata": {},
   "source": [
    "#### 15.which age group has the lowest survival for colorectal cancer at the end of the study?"
   ]
  },
  {
   "cell_type": "code",
   "execution_count": 32,
   "id": "a1dc16d7",
   "metadata": {},
   "outputs": [
    {
     "name": "stdout",
     "output_type": "stream",
     "text": [
      "Survival rate of age Group:(10, 20] at the end of analysis: 1.0\n",
      "Survival rate of age Group:(20, 30] at the end of analysis: 1.0\n",
      "Survival rate of age Group:(30, 40] at the end of analysis: 0.9426\n",
      "Survival rate of age Group:(40, 50] at the end of analysis: 0.953\n",
      "Survival rate of age Group:(50, 60] at the end of analysis: 0.9473\n",
      "Survival rate of age Group:(60, 70] at the end of analysis: 0.9279\n",
      "Survival rate of age Group:(70, 80] at the end of analysis: 0.9415\n",
      "Survival rate of age Group:(80, 90] at the end of analysis: 0.9034\n",
      "Survival rate of age Group:(90, 100] at the end of analysis: 0.8779\n"
     ]
    }
   ],
   "source": [
    "groups = df_COLORECTAL['AGE'] \n",
    "kmf = KaplanMeierFitter() \n",
    "T = df_COLORECTAL['duration_days']    \n",
    "E = df_COLORECTAL['dead']     \n",
    "for i in age_decile[1:10]:\n",
    "    ix = (groups == str(i))\n",
    "    kmf.fit(T[ix], E[ix], label=str(i))\n",
    "    print(\"Survival rate of age Group:\"+str(i)+\" at the end of analysis:\",\n",
    "          np.round(np.mean(kmf.predict((end_date - df_COLORECTAL[\"COLORECTAL_DT\"]).dt.days)),4))"
   ]
  },
  {
   "cell_type": "markdown",
   "id": "5703113e",
   "metadata": {},
   "source": [
    "Age group of (90-100) has the lowest survival at the end of analysis, which is 0.8779"
   ]
  },
  {
   "cell_type": "markdown",
   "id": "ab33ecc6",
   "metadata": {},
   "source": [
    "#### 16.which age group has the highest survival for lung cancer at the end of the study?"
   ]
  },
  {
   "cell_type": "code",
   "execution_count": 33,
   "id": "9252a406",
   "metadata": {},
   "outputs": [
    {
     "name": "stdout",
     "output_type": "stream",
     "text": [
      "Survival rate of age Group:(0, 10] at the end of analysis: 1.0\n",
      "Survival rate of age Group:(10, 20] at the end of analysis: 1.0\n",
      "Survival rate of age Group:(20, 30] at the end of analysis: 0.813\n",
      "Survival rate of age Group:(30, 40] at the end of analysis: 0.9209\n",
      "Survival rate of age Group:(40, 50] at the end of analysis: 0.9605\n",
      "Survival rate of age Group:(50, 60] at the end of analysis: 0.8784\n",
      "Survival rate of age Group:(60, 70] at the end of analysis: 0.8721\n",
      "Survival rate of age Group:(70, 80] at the end of analysis: 0.868\n",
      "Survival rate of age Group:(80, 90] at the end of analysis: 0.8777\n",
      "Survival rate of age Group:(90, 100] at the end of analysis: 0.5834\n",
      "Survival rate of age Group:(100, 110] at the end of analysis: 0.0\n"
     ]
    }
   ],
   "source": [
    "groups = df_LUNG['AGE'] \n",
    "kmf = KaplanMeierFitter() \n",
    "T = df_LUNG['duration_days']    \n",
    "E = df_LUNG['dead']     \n",
    "for i in age_decile:\n",
    "    ix = (groups == str(i))\n",
    "    kmf.fit(T[ix], E[ix], label=str(i))\n",
    "    print(\"Survival rate of age Group:\"+str(i)+\" at the end of analysis:\",\n",
    "          np.round(np.mean(kmf.predict((end_date - df_LUNG[\"LUNG DT\"]).dt.days)),4))"
   ]
  },
  {
   "cell_type": "markdown",
   "id": "6f5d4e71",
   "metadata": {},
   "source": [
    "Age group of (10-20) and (20-30) has the highest survival at the end of analysis, which is 1, but it's out of small sample size, except this, age Group of (40, 50] has the highest survival rate which is 0.9605"
   ]
  },
  {
   "cell_type": "markdown",
   "id": "742f2913",
   "metadata": {},
   "source": [
    "#### 17.what is the survival rate for 61-70 age group with melanoma cancer after 5 years since diagnosis?"
   ]
  },
  {
   "cell_type": "code",
   "execution_count": 34,
   "id": "b7fad16b",
   "metadata": {},
   "outputs": [
    {
     "name": "stdout",
     "output_type": "stream",
     "text": [
      "0.9722\n"
     ]
    }
   ],
   "source": [
    "pred_survival_rate(df_MELANOMA,'AGE','(60, 70]',5*365)"
   ]
  },
  {
   "cell_type": "markdown",
   "id": "d8b4eb1a",
   "metadata": {},
   "source": [
    "#### 18.what is the survival rate for 21 - 30 age group with pancreatic cancer after a year since diagnosis?"
   ]
  },
  {
   "cell_type": "code",
   "execution_count": 35,
   "id": "f1dd60cb",
   "metadata": {},
   "outputs": [
    {
     "name": "stdout",
     "output_type": "stream",
     "text": [
      "0.8\n"
     ]
    }
   ],
   "source": [
    "pred_survival_rate(df_PANCREAS,'AGE','(20, 30]',365)"
   ]
  },
  {
   "cell_type": "markdown",
   "id": "f6787ddd",
   "metadata": {},
   "source": [
    "#### 19. what is the survival rate for 51-60 age group with thyroid cancer after 2200 days since diagnosis?"
   ]
  },
  {
   "cell_type": "code",
   "execution_count": 36,
   "id": "0a53fd51",
   "metadata": {},
   "outputs": [
    {
     "name": "stdout",
     "output_type": "stream",
     "text": [
      "0.9737\n"
     ]
    }
   ],
   "source": [
    "pred_survival_rate(df_THYROID,'AGE','(50, 60]',2200)"
   ]
  },
  {
   "cell_type": "markdown",
   "id": "fcfd32c0",
   "metadata": {},
   "source": [
    "#### 20.which race has the high survival for all cancers after 2500 days since diagnosis?"
   ]
  },
  {
   "cell_type": "code",
   "execution_count": 37,
   "id": "a4dd4bd0",
   "metadata": {},
   "outputs": [
    {
     "name": "stdout",
     "output_type": "stream",
     "text": [
      "Survival rate of White after 2500 days: 0.9263\n",
      "Survival rate of African-American after 2500 days: 0.7428\n",
      "Survival rate of Others after 2500 days: 0.9228\n",
      "Survival rate of Asian/Mideast-Indian after 2500 days: 0.9235\n"
     ]
    }
   ],
   "source": [
    "groups_race = all_cancer['race'] \n",
    "kmf = KaplanMeierFitter() \n",
    "T = all_cancer['duration_days']    \n",
    "E = all_cancer['dead']     \n",
    "for i in all_cancer[\"race\"].value_counts().index:\n",
    "    ix = (groups_race == i)\n",
    "    kmf.fit(T[ix], E[ix], label=i)\n",
    "    print(\"Survival rate of \"+i+\" after 2500 days:\",np.round(kmf.predict(2500),4))"
   ]
  },
  {
   "cell_type": "markdown",
   "id": "9d216c4a",
   "metadata": {},
   "source": [
    "Race of White group has highest survival rate of all cancers after 2500 days, which is 0.9263"
   ]
  }
 ],
 "metadata": {
  "kernelspec": {
   "display_name": "Python 3",
   "language": "python",
   "name": "python3"
  },
  "language_info": {
   "codemirror_mode": {
    "name": "ipython",
    "version": 3
   },
   "file_extension": ".py",
   "mimetype": "text/x-python",
   "name": "python",
   "nbconvert_exporter": "python",
   "pygments_lexer": "ipython3",
   "version": "3.8.8"
  }
 },
 "nbformat": 4,
 "nbformat_minor": 5
}

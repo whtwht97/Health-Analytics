{
 "cells": [
  {
   "cell_type": "code",
   "execution_count": 1,
   "metadata": {
    "_cell_guid": "b1076dfc-b9ad-4769-8c92-a6c4dae69d19",
    "_uuid": "8f2839f25d086af736a60e9eeb907d3b93b6e0e5",
    "execution": {
     "iopub.execute_input": "2022-03-16T06:41:34.613227Z",
     "iopub.status.busy": "2022-03-16T06:41:34.612864Z",
     "iopub.status.idle": "2022-03-16T06:41:34.653959Z",
     "shell.execute_reply": "2022-03-16T06:41:34.653065Z",
     "shell.execute_reply.started": "2022-03-16T06:41:34.613128Z"
    }
   },
   "outputs": [],
   "source": [
    "# This Python 3 environment comes with many helpful analytics libraries installed\n",
    "# It is defined by the kaggle/python Docker image: https://github.com/kaggle/docker-python\n",
    "# For example, here's several helpful packages to load\n",
    "\n",
    "import numpy as np # linear algebra\n",
    "import pandas as pd # data processing, CSV file I/O (e.g. pd.read_csv)\n",
    "\n",
    "# Input data files are available in the read-only \"../input/\" directory\n",
    "# For example, running this (by clicking run or pressing Shift+Enter) will list all files under the input directory\n",
    "\n",
    "import os\n",
    "for dirname, _, filenames in os.walk('/kaggle/input'):\n",
    "    for filename in filenames:\n",
    "        print(os.path.join(dirname, filename))\n",
    "\n",
    "# You can write up to 20GB to the current directory (/kaggle/working/) that gets preserved as output when you create a version using \"Save & Run All\" \n",
    "# You can also write temporary files to /kaggle/temp/, but they won't be saved outside of the current session"
   ]
  },
  {
   "cell_type": "code",
   "execution_count": 2,
   "metadata": {
    "execution": {
     "iopub.execute_input": "2022-03-16T06:41:34.656687Z",
     "iopub.status.busy": "2022-03-16T06:41:34.656047Z",
     "iopub.status.idle": "2022-03-16T06:41:46.879924Z",
     "shell.execute_reply": "2022-03-16T06:41:46.878967Z",
     "shell.execute_reply.started": "2022-03-16T06:41:34.656645Z"
    }
   },
   "outputs": [],
   "source": [
    "import numpy as np\n",
    "import pandas as pd\n",
    "#tqdm.pandas(desc='pandas bar')\n",
    "from matplotlib import pyplot as plt\n",
    "import seaborn as sns\n",
    "\n",
    "from sklearn.preprocessing import LabelEncoder\n",
    "from sklearn.feature_extraction.text import CountVectorizer\n",
    "from sklearn.feature_extraction.text import TfidfTransformer\n",
    "from gensim.models import Word2Vec\n",
    "import gc\n",
    "import time\n",
    "\n",
    "#general purpose packages\n",
    "import numpy as np\n",
    "import pandas as pd\n",
    "import tensorflow as tf\n",
    "import matplotlib.pyplot as plt\n",
    "import seaborn as sns\n",
    "\n",
    "#data processing\n",
    "import re, string\n",
    "import nltk\n",
    "\n",
    "from sklearn import preprocessing\n",
    "from sklearn.model_selection import train_test_split\n",
    "\n",
    "\n",
    "#Naive Bayes\n",
    "from sklearn.naive_bayes import MultinomialNB\n",
    "\n",
    "#lightgbm\n",
    "import lightgbm as lgb\n",
    "\n",
    "#transformers\n",
    "from transformers import BertTokenizerFast\n",
    "from transformers import TFBertModel\n",
    "from transformers import RobertaTokenizerFast\n",
    "from transformers import TFRobertaModel\n",
    "\n",
    "#keras\n",
    "import tensorflow as tf\n",
    "from tensorflow import keras\n",
    "\n",
    "#metrics\n",
    "from sklearn.metrics import accuracy_score, f1_score\n",
    "from sklearn.metrics import classification_report, confusion_matrix\n",
    "\n",
    "#tqdm.pandas(desc='pandas bar')\n",
    "import warnings\n",
    "warnings.filterwarnings('ignore')\n",
    "\n",
    "#set style for plots\n",
    "sns.set_style(\"whitegrid\")\n",
    "sns.despine()\n",
    "plt.style.use(\"seaborn-whitegrid\")\n",
    "plt.rc(\"figure\", autolayout=True)\n",
    "plt.rc(\"axes\", labelweight=\"bold\", labelsize=\"large\", titleweight=\"bold\", titlepad=10)"
   ]
  },
  {
   "cell_type": "code",
   "execution_count": 4,
   "metadata": {
    "execution": {
     "iopub.execute_input": "2022-03-16T06:41:46.901529Z",
     "iopub.status.busy": "2022-03-16T06:41:46.900810Z",
     "iopub.status.idle": "2022-03-16T06:41:46.917595Z",
     "shell.execute_reply": "2022-03-16T06:41:46.916622Z",
     "shell.execute_reply.started": "2022-03-16T06:41:46.901485Z"
    }
   },
   "outputs": [],
   "source": [
    "import os\n",
    "os.getcwd()"
   ]
  },
  {
   "cell_type": "code",
   "execution_count": 5,
   "metadata": {
    "execution": {
     "iopub.execute_input": "2022-03-16T06:41:46.919967Z",
     "iopub.status.busy": "2022-03-16T06:41:46.918972Z",
     "iopub.status.idle": "2022-03-16T06:41:49.322768Z",
     "shell.execute_reply": "2022-03-16T06:41:49.321790Z",
     "shell.execute_reply.started": "2022-03-16T06:41:46.919893Z"
    }
   },
   "outputs": [],
   "source": [
    "train1 = pd.read_csv('../input/kuc-hackathon-winter-2018/drugsComTrain_raw.csv')\n",
    "test1 = pd.read_csv('../input/kuc-hackathon-winter-2018/drugsComTest_raw.csv')\n",
    "df = pd.concat([train1,test1])\n",
    "df"
   ]
  },
  {
   "cell_type": "code",
   "execution_count": 7,
   "metadata": {
    "execution": {
     "iopub.execute_input": "2022-03-16T06:41:54.062986Z",
     "iopub.status.busy": "2022-03-16T06:41:54.062697Z",
     "iopub.status.idle": "2022-03-16T06:41:54.071002Z",
     "shell.execute_reply": "2022-03-16T06:41:54.070044Z",
     "shell.execute_reply.started": "2022-03-16T06:41:54.062955Z"
    }
   },
   "outputs": [],
   "source": [
    "df[\"rating\"] = df[\"rating\"].astype(\"int32\")\n",
    "df[\"usefulCount\"] = df[\"usefulCount\"].astype(\"int32\")"
   ]
  },
  {
   "cell_type": "code",
   "execution_count": 8,
   "metadata": {
    "execution": {
     "iopub.execute_input": "2022-03-16T06:41:54.278425Z",
     "iopub.status.busy": "2022-03-16T06:41:54.277590Z",
     "iopub.status.idle": "2022-03-16T06:41:54.436350Z",
     "shell.execute_reply": "2022-03-16T06:41:54.435178Z",
     "shell.execute_reply.started": "2022-03-16T06:41:54.278384Z"
    }
   },
   "outputs": [],
   "source": [
    "# condition column only 0.55% percent missing values, we can drop it\n",
    "df = df.dropna()"
   ]
  },
  {
   "cell_type": "code",
   "execution_count": 9,
   "metadata": {
    "execution": {
     "iopub.execute_input": "2022-03-16T06:41:54.545840Z",
     "iopub.status.busy": "2022-03-16T06:41:54.545570Z",
     "iopub.status.idle": "2022-03-16T06:41:54.832405Z",
     "shell.execute_reply": "2022-03-16T06:41:54.831457Z",
     "shell.execute_reply.started": "2022-03-16T06:41:54.545810Z"
    }
   },
   "outputs": [],
   "source": [
    "df.drop_duplicates(subset=[\"review\"],inplace=True)"
   ]
  },
  {
   "cell_type": "code",
   "execution_count": 10,
   "metadata": {
    "execution": {
     "iopub.execute_input": "2022-03-16T06:41:55.957872Z",
     "iopub.status.busy": "2022-03-16T06:41:55.957056Z",
     "iopub.status.idle": "2022-03-16T06:41:55.979807Z",
     "shell.execute_reply": "2022-03-16T06:41:55.978693Z",
     "shell.execute_reply.started": "2022-03-16T06:41:55.957838Z"
    }
   },
   "outputs": [],
   "source": [
    "df"
   ]
  },
  {
   "cell_type": "code",
   "execution_count": 11,
   "metadata": {
    "execution": {
     "iopub.execute_input": "2022-03-16T06:42:03.007945Z",
     "iopub.status.busy": "2022-03-16T06:42:03.007656Z",
     "iopub.status.idle": "2022-03-16T06:42:03.054068Z",
     "shell.execute_reply": "2022-03-16T06:42:03.053090Z",
     "shell.execute_reply.started": "2022-03-16T06:42:03.007913Z"
    }
   },
   "outputs": [],
   "source": [
    "# sort the dataframe by uniqueID\n",
    "df = df.sort_values(\"uniqueID\").reset_index(drop=True)"
   ]
  },
  {
   "cell_type": "code",
   "execution_count": 12,
   "metadata": {
    "execution": {
     "iopub.execute_input": "2022-03-16T06:42:03.968052Z",
     "iopub.status.busy": "2022-03-16T06:42:03.967740Z",
     "iopub.status.idle": "2022-03-16T06:42:04.056396Z",
     "shell.execute_reply": "2022-03-16T06:42:04.055397Z",
     "shell.execute_reply.started": "2022-03-16T06:42:03.968019Z"
    }
   },
   "outputs": [],
   "source": [
    "# these 1171 rows have wrong condition info, but the reviews are still useful.\n",
    "df[df[\"condition\"].str.contains(\"</span>\")][\"condition\"] = \"Not Listed / Othe\""
   ]
  },
  {
   "cell_type": "code",
   "execution_count": 13,
   "metadata": {
    "execution": {
     "iopub.execute_input": "2022-03-16T06:42:08.373805Z",
     "iopub.status.busy": "2022-03-16T06:42:08.372542Z",
     "iopub.status.idle": "2022-03-16T06:42:08.401556Z",
     "shell.execute_reply": "2022-03-16T06:42:08.400443Z",
     "shell.execute_reply.started": "2022-03-16T06:42:08.373747Z"
    }
   },
   "outputs": [],
   "source": [
    "df.loc[:,\"sentiment\"] = \"\"\n",
    "df.loc[df[\"rating\"].isin([7,8,9,10]),\"sentiment\"] = 2\n",
    "df.loc[df[\"rating\"].isin([1,2,3]),\"sentiment\"] = 0\n",
    "df.loc[df[\"rating\"].isin([4,5,6]),\"sentiment\"] = 1"
   ]
  },
  {
   "cell_type": "code",
   "execution_count": 14,
   "metadata": {
    "execution": {
     "iopub.execute_input": "2022-03-16T06:42:29.537882Z",
     "iopub.status.busy": "2022-03-16T06:42:29.536899Z",
     "iopub.status.idle": "2022-03-16T06:42:29.875993Z",
     "shell.execute_reply": "2022-03-16T06:42:29.874896Z",
     "shell.execute_reply.started": "2022-03-16T06:42:29.537846Z"
    }
   },
   "outputs": [],
   "source": [
    "\n",
    "from nltk.tokenize import sent_tokenize # tokenizes sentences\n",
    "from nltk.stem import PorterStemmer     # parsing/stemmer\n",
    "from nltk.tag import pos_tag            # parts-of-speech tagging\n",
    "from nltk.corpus import wordnet         # sentiment scores\n",
    "from nltk.stem import WordNetLemmatizer # stem and context\n",
    "from nltk.corpus import stopwords       # stopwords\n",
    "from nltk.util import ngrams            # ngram iterator\n",
    "from nltk.tokenize import word_tokenize\n",
    "\n",
    "\n",
    "# import word2vec\n",
    "from gensim.test.utils import datapath\n",
    "from gensim import utils\n",
    "from gensim.models import Word2Vec\n",
    "\n",
    "# import sklearn\n",
    "from sklearn import metrics\n",
    "from sklearn.metrics import confusion_matrix\n",
    "from sklearn.ensemble import RandomForestClassifier\n",
    "from sklearn.model_selection import train_test_split\n",
    "from sklearn.preprocessing import normalize, FunctionTransformer\n",
    "from sklearn.feature_extraction.text import CountVectorizer\n",
    "\n",
    "from bs4 import BeautifulSoup\n",
    "import nltk\n",
    "import re"
   ]
  },
  {
   "cell_type": "code",
   "execution_count": 15,
   "metadata": {
    "execution": {
     "iopub.execute_input": "2022-03-16T06:42:32.123007Z",
     "iopub.status.busy": "2022-03-16T06:42:32.122683Z",
     "iopub.status.idle": "2022-03-16T06:42:32.143466Z",
     "shell.execute_reply": "2022-03-16T06:42:32.142411Z",
     "shell.execute_reply.started": "2022-03-16T06:42:32.122975Z"
    }
   },
   "outputs": [],
   "source": [
    "ps = PorterStemmer()\n",
    "wnl = WordNetLemmatizer()\n",
    "eng_stopwords = set(stopwords.words(\"english\"))\n",
    "\n",
    "\n",
    "def review_cleaner(review, lemmatize=True, stem=False):\n",
    "    '''\n",
    "        Clean and preprocess a review.\n",
    "            1. Remove HTML tags\n",
    "            2. Extract emoticons\n",
    "            3. Use regex to remove all special characters (only keep letters)\n",
    "            4. Make strings to lower case and tokenize / word split reviews\n",
    "            5. Remove English stopwords\n",
    "            6. Lemmatize\n",
    "            7. Rejoin to one string\n",
    "        \n",
    "        @review (type:str) is an unprocessed review string\n",
    "        @return (type:str) is a 6-step preprocessed review string\n",
    "    '''\n",
    "    if lemmatize == True and stem == True:\n",
    "        raise RuntimeError(\"May not pass both lemmatize and stem flags\")\n",
    "\n",
    "    #1. Remove HTML tags\n",
    "    review = BeautifulSoup(review, \"lxml\").text\n",
    "\n",
    "    #2. Use regex to find emoticons\n",
    "    pattern2 ='(?::|;|=)(?:-)?(?:\\)|\\(|D|P)'\n",
    "    emoticons = re.findall(pattern2,review)\n",
    "\n",
    "    #3. Remove punctuation\n",
    "    pattern3 = r\"[^\\w+ \\d+]\"\n",
    "    review = re.sub(pattern3, \"\",review)\n",
    "\n",
    "    #4. Tokenize into words (all lower case)\n",
    "    review = review.lower()\n",
    "\n",
    "    #5/6. Remove stopwords, Lemmatize, Stem\n",
    "        \n",
    "    word_tokens = word_tokenize(review)\n",
    "    filtered_sentence = [w for w in word_tokens if not w in eng_stopwords]\n",
    "    filtered_sentence = []\n",
    "    for w in word_tokens:\n",
    "         if w not in eng_stopwords:               \n",
    "                w = wnl.lemmatize(w)              \n",
    "                filtered_sentence.append(w)\n",
    "                \n",
    "    \n",
    "    #7. Join the review to one sentence\n",
    "    filtered_sentence = \" \".join(filtered_sentence+emoticons)        \n",
    "    \n",
    "    return filtered_sentence\n"
   ]
  },
  {
   "cell_type": "code",
   "execution_count": 16,
   "metadata": {
    "execution": {
     "iopub.execute_input": "2022-03-16T06:42:35.542421Z",
     "iopub.status.busy": "2022-03-16T06:42:35.542105Z",
     "iopub.status.idle": "2022-03-16T06:45:24.676677Z",
     "shell.execute_reply": "2022-03-16T06:45:24.674774Z",
     "shell.execute_reply.started": "2022-03-16T06:42:35.542372Z"
    }
   },
   "outputs": [],
   "source": [
    "%time df['review_clean'] = df['review'].apply(review_cleaner)"
   ]
  },
  {
   "cell_type": "code",
   "execution_count": 17,
   "metadata": {
    "execution": {
     "iopub.execute_input": "2022-03-16T06:45:24.679453Z",
     "iopub.status.busy": "2022-03-16T06:45:24.679120Z",
     "iopub.status.idle": "2022-03-16T06:45:24.730346Z",
     "shell.execute_reply": "2022-03-16T06:45:24.729379Z",
     "shell.execute_reply.started": "2022-03-16T06:45:24.679408Z"
    }
   },
   "outputs": [],
   "source": [
    "df = df[['uniqueID','review_clean','sentiment']]"
   ]
  },
  {
   "cell_type": "code",
   "execution_count": 18,
   "metadata": {
    "execution": {
     "iopub.execute_input": "2022-03-16T06:45:24.732500Z",
     "iopub.status.busy": "2022-03-16T06:45:24.732182Z",
     "iopub.status.idle": "2022-03-16T06:45:25.209052Z",
     "shell.execute_reply": "2022-03-16T06:45:25.207964Z",
     "shell.execute_reply.started": "2022-03-16T06:45:24.732459Z"
    }
   },
   "outputs": [],
   "source": [
    "result = []\n",
    "for text in df.review_clean:\n",
    "        temp = len(text.split())\n",
    "        result.append(temp)\n",
    "        \n",
    "df[\"text_len\"] = result\n",
    "df[\"text_len\"]"
   ]
  },
  {
   "cell_type": "code",
   "execution_count": 19,
   "metadata": {
    "execution": {
     "iopub.execute_input": "2022-03-16T06:45:25.212427Z",
     "iopub.status.busy": "2022-03-16T06:45:25.211572Z",
     "iopub.status.idle": "2022-03-16T06:45:25.228492Z",
     "shell.execute_reply": "2022-03-16T06:45:25.227525Z",
     "shell.execute_reply.started": "2022-03-16T06:45:25.212379Z"
    }
   },
   "outputs": [],
   "source": [
    "df = df[df[\"text_len\"]<=150]"
   ]
  },
  {
   "cell_type": "code",
   "execution_count": 20,
   "metadata": {
    "execution": {
     "iopub.execute_input": "2022-03-16T06:45:25.230418Z",
     "iopub.status.busy": "2022-03-16T06:45:25.229962Z",
     "iopub.status.idle": "2022-03-16T06:45:25.262471Z",
     "shell.execute_reply": "2022-03-16T06:45:25.261348Z",
     "shell.execute_reply.started": "2022-03-16T06:45:25.230371Z"
    }
   },
   "outputs": [],
   "source": [
    "test = df[df.uniqueID.isin(test1[\"uniqueID\"].values)].reset_index(drop=True)\n",
    "train = df[df.uniqueID.isin(train1[\"uniqueID\"].values)].reset_index(drop=True)"
   ]
  },
  {
   "cell_type": "code",
   "execution_count": 21,
   "metadata": {
    "execution": {
     "iopub.execute_input": "2022-03-16T06:45:25.264904Z",
     "iopub.status.busy": "2022-03-16T06:45:25.263976Z",
     "iopub.status.idle": "2022-03-16T06:45:25.298317Z",
     "shell.execute_reply": "2022-03-16T06:45:25.297303Z",
     "shell.execute_reply.started": "2022-03-16T06:45:25.264859Z"
    }
   },
   "outputs": [],
   "source": [
    "df['sentiment'] = df['sentiment'].astype(\"int32\")\n",
    "train[\"sentiment\"] = train[\"sentiment\"].astype(\"int32\")\n",
    "test[\"sentiment\"] = test[\"sentiment\"].astype(\"int32\")"
   ]
  },
  {
   "cell_type": "code",
   "execution_count": 22,
   "metadata": {
    "execution": {
     "iopub.execute_input": "2022-03-16T06:45:25.302076Z",
     "iopub.status.busy": "2022-03-16T06:45:25.301269Z",
     "iopub.status.idle": "2022-03-16T06:45:25.308439Z",
     "shell.execute_reply": "2022-03-16T06:45:25.307087Z",
     "shell.execute_reply.started": "2022-03-16T06:45:25.302029Z"
    }
   },
   "outputs": [],
   "source": [
    "X = train['review_clean'].values\n",
    "y = train['sentiment'].values"
   ]
  },
  {
   "cell_type": "code",
   "execution_count": 23,
   "metadata": {
    "execution": {
     "iopub.execute_input": "2022-03-16T06:45:25.310901Z",
     "iopub.status.busy": "2022-03-16T06:45:25.310022Z",
     "iopub.status.idle": "2022-03-16T06:45:25.368787Z",
     "shell.execute_reply": "2022-03-16T06:45:25.367849Z",
     "shell.execute_reply.started": "2022-03-16T06:45:25.310848Z"
    }
   },
   "outputs": [],
   "source": [
    "X_train, X_valid, y_train, y_valid = train_test_split(X, y, test_size=0.1, stratify=y, random_state=42)"
   ]
  },
  {
   "cell_type": "code",
   "execution_count": 24,
   "metadata": {
    "execution": {
     "iopub.execute_input": "2022-03-16T06:46:16.034553Z",
     "iopub.status.busy": "2022-03-16T06:46:16.034219Z",
     "iopub.status.idle": "2022-03-16T06:46:16.044369Z",
     "shell.execute_reply": "2022-03-16T06:46:16.043309Z",
     "shell.execute_reply.started": "2022-03-16T06:46:16.034521Z"
    }
   },
   "outputs": [],
   "source": [
    "train.sentiment.value_counts()"
   ]
  },
  {
   "cell_type": "code",
   "execution_count": 25,
   "metadata": {
    "execution": {
     "iopub.execute_input": "2022-03-16T06:46:17.203815Z",
     "iopub.status.busy": "2022-03-16T06:46:17.202968Z",
     "iopub.status.idle": "2022-03-16T06:46:17.209372Z",
     "shell.execute_reply": "2022-03-16T06:46:17.208181Z",
     "shell.execute_reply.started": "2022-03-16T06:46:17.203778Z"
    }
   },
   "outputs": [],
   "source": [
    "X_test = test['review_clean'].values\n",
    "y_test = test['sentiment'].values"
   ]
  },
  {
   "cell_type": "code",
   "execution_count": 40,
   "metadata": {
    "execution": {
     "iopub.execute_input": "2022-03-16T06:54:56.602212Z",
     "iopub.status.busy": "2022-03-16T06:54:56.601902Z",
     "iopub.status.idle": "2022-03-16T06:54:56.607578Z",
     "shell.execute_reply": "2022-03-16T06:54:56.606479Z",
     "shell.execute_reply.started": "2022-03-16T06:54:56.602178Z"
    }
   },
   "outputs": [],
   "source": [
    "\n",
    "y_train_le = y_train.copy()\n",
    "y_valid_le = y_valid.copy()\n",
    "y_test_le = y_test.copy()"
   ]
  },
  {
   "cell_type": "code",
   "execution_count": 41,
   "metadata": {
    "execution": {
     "iopub.execute_input": "2022-03-16T06:54:56.978695Z",
     "iopub.status.busy": "2022-03-16T06:54:56.978366Z",
     "iopub.status.idle": "2022-03-16T06:54:57.008103Z",
     "shell.execute_reply": "2022-03-16T06:54:57.006842Z",
     "shell.execute_reply.started": "2022-03-16T06:54:56.978663Z"
    }
   },
   "outputs": [],
   "source": [
    "ohe = preprocessing.OneHotEncoder()\n",
    "y_train = ohe.fit_transform(np.array(y_train).reshape(-1, 1)).toarray()\n",
    "y_valid = ohe.fit_transform(np.array(y_valid).reshape(-1, 1)).toarray()\n",
    "y_test = ohe.fit_transform(np.array(y_test).reshape(-1, 1)).toarray()"
   ]
  },
  {
   "cell_type": "code",
   "execution_count": 42,
   "metadata": {
    "execution": {
     "iopub.execute_input": "2022-03-16T06:55:02.433752Z",
     "iopub.status.busy": "2022-03-16T06:55:02.432835Z",
     "iopub.status.idle": "2022-03-16T06:55:06.013853Z",
     "shell.execute_reply": "2022-03-16T06:55:06.012875Z",
     "shell.execute_reply.started": "2022-03-16T06:55:02.433713Z"
    }
   },
   "outputs": [],
   "source": [
    "tokenizer = BertTokenizerFast.from_pretrained('bert-base-uncased')"
   ]
  },
  {
   "cell_type": "code",
   "execution_count": 43,
   "metadata": {
    "execution": {
     "iopub.execute_input": "2022-03-16T06:55:06.017932Z",
     "iopub.status.busy": "2022-03-16T06:55:06.016886Z",
     "iopub.status.idle": "2022-03-16T06:55:43.436879Z",
     "shell.execute_reply": "2022-03-16T06:55:43.435898Z",
     "shell.execute_reply.started": "2022-03-16T06:55:06.017888Z"
    }
   },
   "outputs": [],
   "source": [
    "token_lens = []\n",
    "\n",
    "for txt in train['review_clean'].values:\n",
    "    tokens = tokenizer.encode(txt, max_length=256, truncation=True)\n",
    "    token_lens.append(len(tokens))\n",
    "    \n",
    "max_len=np.max(token_lens)"
   ]
  },
  {
   "cell_type": "code",
   "execution_count": 44,
   "metadata": {
    "execution": {
     "iopub.execute_input": "2022-03-16T06:55:43.438634Z",
     "iopub.status.busy": "2022-03-16T06:55:43.438266Z",
     "iopub.status.idle": "2022-03-16T06:55:43.444218Z",
     "shell.execute_reply": "2022-03-16T06:55:43.443161Z",
     "shell.execute_reply.started": "2022-03-16T06:55:43.438590Z"
    }
   },
   "outputs": [],
   "source": [
    "print(f\"MAX TOKENIZED SENTENCE LENGTH: {max_len}\")"
   ]
  },
  {
   "cell_type": "code",
   "execution_count": 45,
   "metadata": {
    "execution": {
     "iopub.execute_input": "2022-03-16T06:55:43.447907Z",
     "iopub.status.busy": "2022-03-16T06:55:43.447202Z",
     "iopub.status.idle": "2022-03-16T06:55:43.457407Z",
     "shell.execute_reply": "2022-03-16T06:55:43.456017Z",
     "shell.execute_reply.started": "2022-03-16T06:55:43.447838Z"
    }
   },
   "outputs": [],
   "source": [
    "MAX_LEN=256\n",
    "\n",
    "def tokenize(data,max_len=MAX_LEN) :\n",
    "    input_ids = []\n",
    "    attention_masks = []\n",
    "    for i in range(len(data)):\n",
    "        encoded = tokenizer.encode_plus(\n",
    "            data[i],\n",
    "            add_special_tokens=True,\n",
    "            max_length=MAX_LEN,\n",
    "            padding='max_length',\n",
    "            return_attention_mask=True\n",
    "        )\n",
    "        input_ids.append(encoded['input_ids'])\n",
    "        attention_masks.append(encoded['attention_mask'])\n",
    "    return np.array(input_ids),np.array(attention_masks)"
   ]
  },
  {
   "cell_type": "code",
   "execution_count": 46,
   "metadata": {
    "execution": {
     "iopub.execute_input": "2022-03-16T06:55:43.460043Z",
     "iopub.status.busy": "2022-03-16T06:55:43.459317Z",
     "iopub.status.idle": "2022-03-16T06:56:44.423308Z",
     "shell.execute_reply": "2022-03-16T06:56:44.422373Z",
     "shell.execute_reply.started": "2022-03-16T06:55:43.459981Z"
    }
   },
   "outputs": [],
   "source": [
    "train_input_ids, train_attention_masks = tokenize(X_train, MAX_LEN)\n",
    "val_input_ids, val_attention_masks = tokenize(X_valid, MAX_LEN)\n",
    "test_input_ids, test_attention_masks = tokenize(X_test, MAX_LEN)"
   ]
  },
  {
   "cell_type": "code",
   "execution_count": 47,
   "metadata": {
    "execution": {
     "iopub.execute_input": "2022-03-16T06:56:44.425560Z",
     "iopub.status.busy": "2022-03-16T06:56:44.424760Z",
     "iopub.status.idle": "2022-03-16T06:56:47.417560Z",
     "shell.execute_reply": "2022-03-16T06:56:47.416561Z",
     "shell.execute_reply.started": "2022-03-16T06:56:44.425513Z"
    }
   },
   "outputs": [],
   "source": [
    "bert_model = TFBertModel.from_pretrained('bert-base-uncased')"
   ]
  },
  {
   "cell_type": "code",
   "execution_count": 48,
   "metadata": {
    "execution": {
     "iopub.execute_input": "2022-03-16T06:56:47.420307Z",
     "iopub.status.busy": "2022-03-16T06:56:47.419268Z",
     "iopub.status.idle": "2022-03-16T06:56:47.430507Z",
     "shell.execute_reply": "2022-03-16T06:56:47.429367Z",
     "shell.execute_reply.started": "2022-03-16T06:56:47.420244Z"
    }
   },
   "outputs": [],
   "source": [
    "def create_model(bert_model, max_len=MAX_LEN):\n",
    "    \n",
    "    ##params###\n",
    "    opt = tf.keras.optimizers.Adam(learning_rate=1e-5, decay=1e-7)\n",
    "    loss = tf.keras.losses.CategoricalCrossentropy()\n",
    "    accuracy = tf.keras.metrics.CategoricalAccuracy()\n",
    "\n",
    "\n",
    "    input_ids = tf.keras.Input(shape=(max_len,),dtype='int32')\n",
    "    \n",
    "    attention_masks = tf.keras.Input(shape=(max_len,),dtype='int32')\n",
    "    \n",
    "    embeddings = bert_model([input_ids,attention_masks])[1]\n",
    "    \n",
    "    output = tf.keras.layers.Dense(3, activation=\"softmax\")(embeddings)\n",
    "    \n",
    "    model = tf.keras.models.Model(inputs = [input_ids,attention_masks], outputs = output)\n",
    "    \n",
    "    model.compile(opt, loss=loss, metrics=accuracy)\n",
    "    \n",
    "    \n",
    "    return model"
   ]
  },
  {
   "cell_type": "code",
   "execution_count": 49,
   "metadata": {
    "execution": {
     "iopub.execute_input": "2022-03-16T06:56:47.432639Z",
     "iopub.status.busy": "2022-03-16T06:56:47.432078Z",
     "iopub.status.idle": "2022-03-16T06:56:49.843418Z",
     "shell.execute_reply": "2022-03-16T06:56:49.842469Z",
     "shell.execute_reply.started": "2022-03-16T06:56:47.432590Z"
    }
   },
   "outputs": [],
   "source": [
    "model = create_model(bert_model, MAX_LEN)\n",
    "model.summary()"
   ]
  },
  {
   "cell_type": "code",
   "execution_count": 50,
   "metadata": {
    "execution": {
     "iopub.execute_input": "2022-03-16T06:56:49.845813Z",
     "iopub.status.busy": "2022-03-16T06:56:49.845470Z",
     "iopub.status.idle": "2022-03-16T06:56:49.907931Z",
     "shell.execute_reply": "2022-03-16T06:56:49.906855Z",
     "shell.execute_reply.started": "2022-03-16T06:56:49.845767Z"
    }
   },
   "outputs": [],
   "source": [
    "np.mean([len(train_input_ids[i]) for i in range(len(train_input_ids))])"
   ]
  },
  {
   "cell_type": "code",
   "execution_count": 51,
   "metadata": {
    "execution": {
     "iopub.execute_input": "2022-03-16T06:56:49.912055Z",
     "iopub.status.busy": "2022-03-16T06:56:49.911043Z",
     "iopub.status.idle": "2022-03-16T10:26:27.663179Z",
     "shell.execute_reply": "2022-03-16T10:26:27.662208Z",
     "shell.execute_reply.started": "2022-03-16T06:56:49.912006Z"
    }
   },
   "outputs": [],
   "source": [
    "history_bert = model.fit([train_input_ids,train_attention_masks], y_train, validation_data=([val_input_ids,val_attention_masks], y_valid), epochs=4, batch_size=32)"
   ]
  },
  {
   "cell_type": "code",
   "execution_count": 52,
   "metadata": {
    "execution": {
     "iopub.execute_input": "2022-03-16T10:40:14.255609Z",
     "iopub.status.busy": "2022-03-16T10:40:14.255228Z",
     "iopub.status.idle": "2022-03-16T10:43:39.721905Z",
     "shell.execute_reply": "2022-03-16T10:43:39.720876Z",
     "shell.execute_reply.started": "2022-03-16T10:40:14.255562Z"
    }
   },
   "outputs": [],
   "source": [
    "result_bert = model.predict([test_input_ids,test_attention_masks])"
   ]
  },
  {
   "cell_type": "code",
   "execution_count": 53,
   "metadata": {
    "execution": {
     "iopub.execute_input": "2022-03-16T10:43:39.724673Z",
     "iopub.status.busy": "2022-03-16T10:43:39.724262Z",
     "iopub.status.idle": "2022-03-16T10:43:39.731544Z",
     "shell.execute_reply": "2022-03-16T10:43:39.730395Z",
     "shell.execute_reply.started": "2022-03-16T10:43:39.724630Z"
    }
   },
   "outputs": [],
   "source": [
    "y_pred_bert =  np.zeros_like(result_bert)\n",
    "y_pred_bert[np.arange(len(y_pred_bert)), result_bert.argmax(1)] = 1"
   ]
  },
  {
   "cell_type": "code",
   "execution_count": 55,
   "metadata": {
    "execution": {
     "iopub.execute_input": "2022-03-16T10:49:58.787190Z",
     "iopub.status.busy": "2022-03-16T10:49:58.786312Z",
     "iopub.status.idle": "2022-03-16T10:49:58.794214Z",
     "shell.execute_reply": "2022-03-16T10:49:58.793130Z",
     "shell.execute_reply.started": "2022-03-16T10:49:58.787134Z"
    }
   },
   "outputs": [],
   "source": [
    "y_pred_bert"
   ]
  },
  {
   "cell_type": "code",
   "execution_count": 68,
   "metadata": {
    "execution": {
     "iopub.execute_input": "2022-03-16T11:06:09.592898Z",
     "iopub.status.busy": "2022-03-16T11:06:09.592569Z",
     "iopub.status.idle": "2022-03-16T11:06:09.645632Z",
     "shell.execute_reply": "2022-03-16T11:06:09.644517Z",
     "shell.execute_reply.started": "2022-03-16T11:06:09.592850Z"
    }
   },
   "outputs": [],
   "source": [
    "print('\\tClassification Report for BERT:\\n\\n',classification_report(y_test,y_pred_bert, target_names=['Negative', 'Neutral', 'Positive']))"
   ]
  },
  {
   "cell_type": "code",
   "execution_count": 62,
   "metadata": {
    "execution": {
     "iopub.execute_input": "2022-03-16T11:01:53.413782Z",
     "iopub.status.busy": "2022-03-16T11:01:53.413491Z",
     "iopub.status.idle": "2022-03-16T11:01:53.419054Z",
     "shell.execute_reply": "2022-03-16T11:01:53.417496Z",
     "shell.execute_reply.started": "2022-03-16T11:01:53.413742Z"
    }
   },
   "outputs": [],
   "source": [
    "from sklearn.metrics import multilabel_confusion_matrix"
   ]
  },
  {
   "cell_type": "code",
   "execution_count": null,
   "metadata": {},
   "outputs": [],
   "source": [
    "# I run it in Kaggle with GPU. but can't download ipynb file with output.."
   ]
  }
 ],
 "metadata": {
  "kernelspec": {
   "display_name": "Python 3",
   "language": "python",
   "name": "python3"
  },
  "language_info": {
   "codemirror_mode": {
    "name": "ipython",
    "version": 3
   },
   "file_extension": ".py",
   "mimetype": "text/x-python",
   "name": "python",
   "nbconvert_exporter": "python",
   "pygments_lexer": "ipython3",
   "version": "3.8.8"
  }
 },
 "nbformat": 4,
 "nbformat_minor": 4
}

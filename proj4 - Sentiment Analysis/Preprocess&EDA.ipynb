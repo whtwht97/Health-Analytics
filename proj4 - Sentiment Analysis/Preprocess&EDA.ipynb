{
 "cells": [
  {
   "cell_type": "code",
   "execution_count": 23,
   "id": "b258e80e",
   "metadata": {},
   "outputs": [
    {
     "name": "stderr",
     "output_type": "stream",
     "text": [
      "C:\\Users\\whtwht97\\anaconda3\\lib\\site-packages\\dask\\dataframe\\utils.py:369: FutureWarning:\n",
      "\n",
      "pandas.Int64Index is deprecated and will be removed from pandas in a future version. Use pandas.Index with the appropriate dtype instead.\n",
      "\n",
      "C:\\Users\\whtwht97\\anaconda3\\lib\\site-packages\\dask\\dataframe\\utils.py:369: FutureWarning:\n",
      "\n",
      "pandas.Float64Index is deprecated and will be removed from pandas in a future version. Use pandas.Index with the appropriate dtype instead.\n",
      "\n",
      "C:\\Users\\whtwht97\\anaconda3\\lib\\site-packages\\dask\\dataframe\\utils.py:369: FutureWarning:\n",
      "\n",
      "pandas.UInt64Index is deprecated and will be removed from pandas in a future version. Use pandas.Index with the appropriate dtype instead.\n",
      "\n"
     ]
    },
    {
     "data": {
      "text/plain": [
       "<Figure size 432x288 with 0 Axes>"
      ]
     },
     "metadata": {},
     "output_type": "display_data"
    }
   ],
   "source": [
    "import numpy as np\n",
    "import pandas as pd\n",
    "from tqdm import tqdm\n",
    "#tqdm.pandas(desc='pandas bar')\n",
    "from matplotlib import pyplot as plt\n",
    "import seaborn as sns\n",
    "\n",
    "from sklearn import preprocessing\n",
    "from sklearn.preprocessing import LabelEncoder\n",
    "from sklearn.feature_extraction.text import CountVectorizer\n",
    "from sklearn.feature_extraction.text import TfidfTransformer\n",
    "from gensim.models import Word2Vec\n",
    "import gc\n",
    "import time\n",
    "\n",
    "#nlp\n",
    "import re, string\n",
    "import nltk\n",
    "\n",
    "#Naive Bayes\n",
    "from sklearn.naive_bayes import MultinomialNB\n",
    "\n",
    "#lightgbm\n",
    "import lightgbm as lgb\n",
    "\n",
    "#transformers\n",
    "from transformers import BertTokenizerFast\n",
    "from transformers import TFBertModel\n",
    "from transformers import RobertaTokenizerFast\n",
    "from transformers import TFRobertaModel\n",
    "\n",
    "#keras\n",
    "import tensorflow as tf\n",
    "from tensorflow import keras\n",
    "\n",
    "#metrics\n",
    "from sklearn.metrics import accuracy_score, f1_score\n",
    "from sklearn.metrics import classification_report, confusion_matrix\n",
    "\n",
    "import warnings\n",
    "warnings.filterwarnings('ignore')\n",
    "\n",
    "#set style for plots\n",
    "sns.set_style(\"whitegrid\")\n",
    "sns.despine()\n",
    "plt.style.use(\"seaborn-whitegrid\")\n",
    "plt.rc(\"figure\", autolayout=True)\n",
    "plt.rc(\"axes\", labelweight=\"bold\", labelsize=\"large\", titleweight=\"bold\", titlepad=10)"
   ]
  },
  {
   "cell_type": "code",
   "execution_count": 24,
   "id": "9d14167e",
   "metadata": {
    "scrolled": true
   },
   "outputs": [
    {
     "data": {
      "text/html": [
       "<div>\n",
       "<style scoped>\n",
       "    .dataframe tbody tr th:only-of-type {\n",
       "        vertical-align: middle;\n",
       "    }\n",
       "\n",
       "    .dataframe tbody tr th {\n",
       "        vertical-align: top;\n",
       "    }\n",
       "\n",
       "    .dataframe thead th {\n",
       "        text-align: right;\n",
       "    }\n",
       "</style>\n",
       "<table border=\"1\" class=\"dataframe\">\n",
       "  <thead>\n",
       "    <tr style=\"text-align: right;\">\n",
       "      <th></th>\n",
       "      <th>uniqueID</th>\n",
       "      <th>drugName</th>\n",
       "      <th>condition</th>\n",
       "      <th>review</th>\n",
       "      <th>rating</th>\n",
       "      <th>date</th>\n",
       "      <th>usefulCount</th>\n",
       "    </tr>\n",
       "  </thead>\n",
       "  <tbody>\n",
       "    <tr>\n",
       "      <th>0</th>\n",
       "      <td>206461</td>\n",
       "      <td>Valsartan</td>\n",
       "      <td>Left Ventricular Dysfunction</td>\n",
       "      <td>\"It has no side effect, I take it in combinati...</td>\n",
       "      <td>9</td>\n",
       "      <td>20-May-12</td>\n",
       "      <td>27</td>\n",
       "    </tr>\n",
       "    <tr>\n",
       "      <th>1</th>\n",
       "      <td>95260</td>\n",
       "      <td>Guanfacine</td>\n",
       "      <td>ADHD</td>\n",
       "      <td>\"My son is halfway through his fourth week of ...</td>\n",
       "      <td>8</td>\n",
       "      <td>27-Apr-10</td>\n",
       "      <td>192</td>\n",
       "    </tr>\n",
       "    <tr>\n",
       "      <th>2</th>\n",
       "      <td>92703</td>\n",
       "      <td>Lybrel</td>\n",
       "      <td>Birth Control</td>\n",
       "      <td>\"I used to take another oral contraceptive, wh...</td>\n",
       "      <td>5</td>\n",
       "      <td>14-Dec-09</td>\n",
       "      <td>17</td>\n",
       "    </tr>\n",
       "    <tr>\n",
       "      <th>3</th>\n",
       "      <td>138000</td>\n",
       "      <td>Ortho Evra</td>\n",
       "      <td>Birth Control</td>\n",
       "      <td>\"This is my first time using any form of birth...</td>\n",
       "      <td>8</td>\n",
       "      <td>3-Nov-15</td>\n",
       "      <td>10</td>\n",
       "    </tr>\n",
       "    <tr>\n",
       "      <th>4</th>\n",
       "      <td>35696</td>\n",
       "      <td>Buprenorphine / naloxone</td>\n",
       "      <td>Opiate Dependence</td>\n",
       "      <td>\"Suboxone has completely turned my life around...</td>\n",
       "      <td>9</td>\n",
       "      <td>27-Nov-16</td>\n",
       "      <td>37</td>\n",
       "    </tr>\n",
       "    <tr>\n",
       "      <th>...</th>\n",
       "      <td>...</td>\n",
       "      <td>...</td>\n",
       "      <td>...</td>\n",
       "      <td>...</td>\n",
       "      <td>...</td>\n",
       "      <td>...</td>\n",
       "      <td>...</td>\n",
       "    </tr>\n",
       "    <tr>\n",
       "      <th>53761</th>\n",
       "      <td>159999</td>\n",
       "      <td>Tamoxifen</td>\n",
       "      <td>Breast Cancer, Prevention</td>\n",
       "      <td>\"I have taken Tamoxifen for 5 years. Side effe...</td>\n",
       "      <td>10</td>\n",
       "      <td>13-Sep-14</td>\n",
       "      <td>43</td>\n",
       "    </tr>\n",
       "    <tr>\n",
       "      <th>53762</th>\n",
       "      <td>140714</td>\n",
       "      <td>Escitalopram</td>\n",
       "      <td>Anxiety</td>\n",
       "      <td>\"I&amp;#039;ve been taking Lexapro (escitaploprgra...</td>\n",
       "      <td>9</td>\n",
       "      <td>8-Oct-16</td>\n",
       "      <td>11</td>\n",
       "    </tr>\n",
       "    <tr>\n",
       "      <th>53763</th>\n",
       "      <td>130945</td>\n",
       "      <td>Levonorgestrel</td>\n",
       "      <td>Birth Control</td>\n",
       "      <td>\"I&amp;#039;m married, 34 years old and I have no ...</td>\n",
       "      <td>8</td>\n",
       "      <td>15-Nov-10</td>\n",
       "      <td>7</td>\n",
       "    </tr>\n",
       "    <tr>\n",
       "      <th>53764</th>\n",
       "      <td>47656</td>\n",
       "      <td>Tapentadol</td>\n",
       "      <td>Pain</td>\n",
       "      <td>\"I was prescribed Nucynta for severe neck/shou...</td>\n",
       "      <td>1</td>\n",
       "      <td>28-Nov-11</td>\n",
       "      <td>20</td>\n",
       "    </tr>\n",
       "    <tr>\n",
       "      <th>53765</th>\n",
       "      <td>113712</td>\n",
       "      <td>Arthrotec</td>\n",
       "      <td>Sciatica</td>\n",
       "      <td>\"It works!!!\"</td>\n",
       "      <td>9</td>\n",
       "      <td>13-Sep-09</td>\n",
       "      <td>46</td>\n",
       "    </tr>\n",
       "  </tbody>\n",
       "</table>\n",
       "<p>215063 rows × 7 columns</p>\n",
       "</div>"
      ],
      "text/plain": [
       "       uniqueID                  drugName                     condition  \\\n",
       "0        206461                 Valsartan  Left Ventricular Dysfunction   \n",
       "1         95260                Guanfacine                          ADHD   \n",
       "2         92703                    Lybrel                 Birth Control   \n",
       "3        138000                Ortho Evra                 Birth Control   \n",
       "4         35696  Buprenorphine / naloxone             Opiate Dependence   \n",
       "...         ...                       ...                           ...   \n",
       "53761    159999                 Tamoxifen     Breast Cancer, Prevention   \n",
       "53762    140714              Escitalopram                       Anxiety   \n",
       "53763    130945            Levonorgestrel                 Birth Control   \n",
       "53764     47656                Tapentadol                          Pain   \n",
       "53765    113712                 Arthrotec                      Sciatica   \n",
       "\n",
       "                                                  review  rating       date  \\\n",
       "0      \"It has no side effect, I take it in combinati...       9  20-May-12   \n",
       "1      \"My son is halfway through his fourth week of ...       8  27-Apr-10   \n",
       "2      \"I used to take another oral contraceptive, wh...       5  14-Dec-09   \n",
       "3      \"This is my first time using any form of birth...       8   3-Nov-15   \n",
       "4      \"Suboxone has completely turned my life around...       9  27-Nov-16   \n",
       "...                                                  ...     ...        ...   \n",
       "53761  \"I have taken Tamoxifen for 5 years. Side effe...      10  13-Sep-14   \n",
       "53762  \"I&#039;ve been taking Lexapro (escitaploprgra...       9   8-Oct-16   \n",
       "53763  \"I&#039;m married, 34 years old and I have no ...       8  15-Nov-10   \n",
       "53764  \"I was prescribed Nucynta for severe neck/shou...       1  28-Nov-11   \n",
       "53765                                      \"It works!!!\"       9  13-Sep-09   \n",
       "\n",
       "       usefulCount  \n",
       "0               27  \n",
       "1              192  \n",
       "2               17  \n",
       "3               10  \n",
       "4               37  \n",
       "...            ...  \n",
       "53761           43  \n",
       "53762           11  \n",
       "53763            7  \n",
       "53764           20  \n",
       "53765           46  \n",
       "\n",
       "[215063 rows x 7 columns]"
      ]
     },
     "execution_count": 24,
     "metadata": {},
     "output_type": "execute_result"
    }
   ],
   "source": [
    "train = pd.read_csv('C:/Users/whtwht97/Desktop/Document/UChicago/Q2 - Health Analytics/final proj/drugsComTrain_raw.csv')\n",
    "test = pd.read_csv('C:/Users/whtwht97/Desktop/Document/UChicago/Q2 - Health Analytics/final proj/drugsComTest_raw.csv')\n",
    "df = pd.concat([train,test])\n",
    "df"
   ]
  },
  {
   "cell_type": "code",
   "execution_count": 25,
   "id": "9ffff445",
   "metadata": {},
   "outputs": [],
   "source": [
    "df[\"rating\"] = df[\"rating\"].astype(\"int32\")\n",
    "df[\"usefulCount\"] = df[\"usefulCount\"].astype(\"int32\")"
   ]
  },
  {
   "cell_type": "code",
   "execution_count": 26,
   "id": "39daeddb",
   "metadata": {},
   "outputs": [
    {
     "data": {
      "text/plain": [
       "uniqueID       0.000000\n",
       "drugName       0.000000\n",
       "condition      0.555186\n",
       "review         0.000000\n",
       "rating         0.000000\n",
       "date           0.000000\n",
       "usefulCount    0.000000\n",
       "dtype: float64"
      ]
     },
     "execution_count": 26,
     "metadata": {},
     "output_type": "execute_result"
    }
   ],
   "source": [
    "# check missing values \n",
    "df.isnull().sum()/len(df) * 100"
   ]
  },
  {
   "cell_type": "code",
   "execution_count": 27,
   "id": "89c8ad69",
   "metadata": {},
   "outputs": [],
   "source": [
    "# condition column only 0.55% percent missing values, we can drop it\n",
    "df = df.dropna()"
   ]
  },
  {
   "cell_type": "code",
   "execution_count": 28,
   "id": "996e9017",
   "metadata": {},
   "outputs": [],
   "source": [
    "# sort the dataframe by uniqueID\n",
    "df = df.sort_values(\"uniqueID\").reset_index(drop=True)"
   ]
  },
  {
   "cell_type": "code",
   "execution_count": 29,
   "id": "dbd2891a",
   "metadata": {},
   "outputs": [
    {
     "data": {
      "text/plain": [
       "Lincocin                                1\n",
       "Tandem DHA                              1\n",
       "Femtrace                                1\n",
       "Mumps virus vaccine                     1\n",
       "Cometriq                                1\n",
       "                                     ... \n",
       "Ethinyl estradiol / norgestimate     2682\n",
       "Nexplanon                            2892\n",
       "Ethinyl estradiol / norethindrone    3619\n",
       "Etonogestrel                         4402\n",
       "Levonorgestrel                       4896\n",
       "Name: drugName, Length: 3667, dtype: int64"
      ]
     },
     "execution_count": 29,
     "metadata": {},
     "output_type": "execute_result"
    }
   ],
   "source": [
    "df.drugName.value_counts().sort_values()"
   ]
  },
  {
   "cell_type": "code",
   "execution_count": 30,
   "id": "321a9a89",
   "metadata": {},
   "outputs": [
    {
     "data": {
      "text/plain": [
       "Sporotrichosis                                     1\n",
       "37</span> users found this comment helpful.        1\n",
       "ungal Infection Prophylaxis                        1\n",
       "Pertussis Prophylaxis                              1\n",
       "Short Stature                                      1\n",
       "                                               ...  \n",
       "Acne                                            7435\n",
       "Anxiety                                         7812\n",
       "Pain                                            8245\n",
       "Depression                                     12164\n",
       "Birth Control                                  38436\n",
       "Name: condition, Length: 916, dtype: int64"
      ]
     },
     "execution_count": 30,
     "metadata": {},
     "output_type": "execute_result"
    }
   ],
   "source": [
    "df.condition.value_counts().sort_values()"
   ]
  },
  {
   "cell_type": "code",
   "execution_count": 31,
   "id": "ae4f81cb",
   "metadata": {},
   "outputs": [
    {
     "data": {
      "text/html": [
       "<div>\n",
       "<style scoped>\n",
       "    .dataframe tbody tr th:only-of-type {\n",
       "        vertical-align: middle;\n",
       "    }\n",
       "\n",
       "    .dataframe tbody tr th {\n",
       "        vertical-align: top;\n",
       "    }\n",
       "\n",
       "    .dataframe thead th {\n",
       "        text-align: right;\n",
       "    }\n",
       "</style>\n",
       "<table border=\"1\" class=\"dataframe\">\n",
       "  <thead>\n",
       "    <tr style=\"text-align: right;\">\n",
       "      <th></th>\n",
       "      <th>uniqueID</th>\n",
       "      <th>drugName</th>\n",
       "      <th>condition</th>\n",
       "      <th>review</th>\n",
       "      <th>rating</th>\n",
       "      <th>date</th>\n",
       "      <th>usefulCount</th>\n",
       "    </tr>\n",
       "  </thead>\n",
       "  <tbody>\n",
       "    <tr>\n",
       "      <th>421</th>\n",
       "      <td>459</td>\n",
       "      <td>Medroxyprogesterone</td>\n",
       "      <td>Amenorrhea</td>\n",
       "      <td>\"I have always had amenorrhea (irregular perio...</td>\n",
       "      <td>9</td>\n",
       "      <td>5-May-15</td>\n",
       "      <td>18</td>\n",
       "    </tr>\n",
       "    <tr>\n",
       "      <th>1673</th>\n",
       "      <td>1816</td>\n",
       "      <td>Zolmitriptan</td>\n",
       "      <td>Migraine</td>\n",
       "      <td>\"Fantastic. I use to suffer with nasty migrane...</td>\n",
       "      <td>9</td>\n",
       "      <td>21-Mar-08</td>\n",
       "      <td>7</td>\n",
       "    </tr>\n",
       "    <tr>\n",
       "      <th>2471</th>\n",
       "      <td>2700</td>\n",
       "      <td>Diltiazem</td>\n",
       "      <td>Atrial Fibrillation</td>\n",
       "      <td>\"I was happy with medication, as I did not hav...</td>\n",
       "      <td>5</td>\n",
       "      <td>27-Jul-13</td>\n",
       "      <td>50</td>\n",
       "    </tr>\n",
       "    <tr>\n",
       "      <th>2474</th>\n",
       "      <td>2704</td>\n",
       "      <td>Diltiazem</td>\n",
       "      <td>Supraventricular Tachycardia</td>\n",
       "      <td>\"I am on 240 mg once a day, Been taking meds s...</td>\n",
       "      <td>6</td>\n",
       "      <td>1-Oct-12</td>\n",
       "      <td>45</td>\n",
       "    </tr>\n",
       "    <tr>\n",
       "      <th>2479</th>\n",
       "      <td>2710</td>\n",
       "      <td>Diltiazem</td>\n",
       "      <td>Atrial Flutte</td>\n",
       "      <td>\"I have been diagnosed for 3 years with tachyc...</td>\n",
       "      <td>3</td>\n",
       "      <td>10-Nov-11</td>\n",
       "      <td>36</td>\n",
       "    </tr>\n",
       "    <tr>\n",
       "      <th>...</th>\n",
       "      <td>...</td>\n",
       "      <td>...</td>\n",
       "      <td>...</td>\n",
       "      <td>...</td>\n",
       "      <td>...</td>\n",
       "      <td>...</td>\n",
       "      <td>...</td>\n",
       "    </tr>\n",
       "    <tr>\n",
       "      <th>213857</th>\n",
       "      <td>232277</td>\n",
       "      <td>Amoxicillin / clavulanate</td>\n",
       "      <td>Bacterial Infection</td>\n",
       "      <td>\"I started Augmentin on Thursday morning becau...</td>\n",
       "      <td>2</td>\n",
       "      <td>23-Jul-17</td>\n",
       "      <td>7</td>\n",
       "    </tr>\n",
       "    <tr>\n",
       "      <th>213862</th>\n",
       "      <td>232283</td>\n",
       "      <td>Amoxicillin / clavulanate</td>\n",
       "      <td>Sinusitis</td>\n",
       "      <td>\"I will never take this drug again. I was pres...</td>\n",
       "      <td>1</td>\n",
       "      <td>2-Jul-17</td>\n",
       "      <td>16</td>\n",
       "    </tr>\n",
       "    <tr>\n",
       "      <th>213863</th>\n",
       "      <td>232284</td>\n",
       "      <td>Amoxicillin / clavulanate</td>\n",
       "      <td>Bacterial Infection</td>\n",
       "      <td>\"I was prescribed augmentin for a dental infec...</td>\n",
       "      <td>7</td>\n",
       "      <td>2-Jul-17</td>\n",
       "      <td>4</td>\n",
       "    </tr>\n",
       "    <tr>\n",
       "      <th>213864</th>\n",
       "      <td>232286</td>\n",
       "      <td>Amoxicillin / clavulanate</td>\n",
       "      <td>Sinusitis</td>\n",
       "      <td>\"Don&amp;#039;t ever use this, \\r\\nWhen I was 4 ye...</td>\n",
       "      <td>1</td>\n",
       "      <td>29-Jun-17</td>\n",
       "      <td>8</td>\n",
       "    </tr>\n",
       "    <tr>\n",
       "      <th>213868</th>\n",
       "      <td>232291</td>\n",
       "      <td>Amoxicillin / clavulanate</td>\n",
       "      <td>Sinusitis</td>\n",
       "      <td>\"Every time I have had a sinus infection and b...</td>\n",
       "      <td>10</td>\n",
       "      <td>16-Jun-17</td>\n",
       "      <td>28</td>\n",
       "    </tr>\n",
       "  </tbody>\n",
       "</table>\n",
       "<p>85420 rows × 7 columns</p>\n",
       "</div>"
      ],
      "text/plain": [
       "        uniqueID                   drugName                     condition  \\\n",
       "421          459        Medroxyprogesterone                    Amenorrhea   \n",
       "1673        1816               Zolmitriptan                      Migraine   \n",
       "2471        2700                  Diltiazem           Atrial Fibrillation   \n",
       "2474        2704                  Diltiazem  Supraventricular Tachycardia   \n",
       "2479        2710                  Diltiazem                 Atrial Flutte   \n",
       "...          ...                        ...                           ...   \n",
       "213857    232277  Amoxicillin / clavulanate           Bacterial Infection   \n",
       "213862    232283  Amoxicillin / clavulanate                     Sinusitis   \n",
       "213863    232284  Amoxicillin / clavulanate           Bacterial Infection   \n",
       "213864    232286  Amoxicillin / clavulanate                     Sinusitis   \n",
       "213868    232291  Amoxicillin / clavulanate                     Sinusitis   \n",
       "\n",
       "                                                   review  rating       date  \\\n",
       "421     \"I have always had amenorrhea (irregular perio...       9   5-May-15   \n",
       "1673    \"Fantastic. I use to suffer with nasty migrane...       9  21-Mar-08   \n",
       "2471    \"I was happy with medication, as I did not hav...       5  27-Jul-13   \n",
       "2474    \"I am on 240 mg once a day, Been taking meds s...       6   1-Oct-12   \n",
       "2479    \"I have been diagnosed for 3 years with tachyc...       3  10-Nov-11   \n",
       "...                                                   ...     ...        ...   \n",
       "213857  \"I started Augmentin on Thursday morning becau...       2  23-Jul-17   \n",
       "213862  \"I will never take this drug again. I was pres...       1   2-Jul-17   \n",
       "213863  \"I was prescribed augmentin for a dental infec...       7   2-Jul-17   \n",
       "213864  \"Don&#039;t ever use this, \\r\\nWhen I was 4 ye...       1  29-Jun-17   \n",
       "213868  \"Every time I have had a sinus infection and b...      10  16-Jun-17   \n",
       "\n",
       "        usefulCount  \n",
       "421              18  \n",
       "1673              7  \n",
       "2471             50  \n",
       "2474             45  \n",
       "2479             36  \n",
       "...             ...  \n",
       "213857            7  \n",
       "213862           16  \n",
       "213863            4  \n",
       "213864            8  \n",
       "213868           28  \n",
       "\n",
       "[85420 rows x 7 columns]"
      ]
     },
     "execution_count": 31,
     "metadata": {},
     "output_type": "execute_result"
    }
   ],
   "source": [
    "# there are a lot of duplicated reviews due to different drug name alias\n",
    "df[df.duplicated([\"review\"])]"
   ]
  },
  {
   "cell_type": "code",
   "execution_count": 32,
   "id": "b35d8578",
   "metadata": {},
   "outputs": [
    {
     "data": {
      "text/html": [
       "<div>\n",
       "<style scoped>\n",
       "    .dataframe tbody tr th:only-of-type {\n",
       "        vertical-align: middle;\n",
       "    }\n",
       "\n",
       "    .dataframe tbody tr th {\n",
       "        vertical-align: top;\n",
       "    }\n",
       "\n",
       "    .dataframe thead th {\n",
       "        text-align: right;\n",
       "    }\n",
       "</style>\n",
       "<table border=\"1\" class=\"dataframe\">\n",
       "  <thead>\n",
       "    <tr style=\"text-align: right;\">\n",
       "      <th></th>\n",
       "      <th>uniqueID</th>\n",
       "      <th>drugName</th>\n",
       "      <th>condition</th>\n",
       "      <th>review</th>\n",
       "      <th>rating</th>\n",
       "      <th>date</th>\n",
       "      <th>usefulCount</th>\n",
       "    </tr>\n",
       "  </thead>\n",
       "  <tbody>\n",
       "    <tr>\n",
       "      <th>2570</th>\n",
       "      <td>2817</td>\n",
       "      <td>Cefixime</td>\n",
       "      <td>Sinusitis</td>\n",
       "      <td>\"This drug got me well when NOTHING else would...</td>\n",
       "      <td>10</td>\n",
       "      <td>25-Jul-16</td>\n",
       "      <td>3</td>\n",
       "    </tr>\n",
       "    <tr>\n",
       "      <th>3529</th>\n",
       "      <td>3855</td>\n",
       "      <td>Suprax</td>\n",
       "      <td>Sinusitis</td>\n",
       "      <td>\"This drug got me well when NOTHING else would...</td>\n",
       "      <td>10</td>\n",
       "      <td>25-Jul-16</td>\n",
       "      <td>3</td>\n",
       "    </tr>\n",
       "  </tbody>\n",
       "</table>\n",
       "</div>"
      ],
      "text/plain": [
       "      uniqueID  drugName  condition  \\\n",
       "2570      2817  Cefixime  Sinusitis   \n",
       "3529      3855    Suprax  Sinusitis   \n",
       "\n",
       "                                                 review  rating       date  \\\n",
       "2570  \"This drug got me well when NOTHING else would...      10  25-Jul-16   \n",
       "3529  \"This drug got me well when NOTHING else would...      10  25-Jul-16   \n",
       "\n",
       "      usefulCount  \n",
       "2570            3  \n",
       "3529            3  "
      ]
     },
     "execution_count": 32,
     "metadata": {},
     "output_type": "execute_result"
    }
   ],
   "source": [
    "# an example: Cefixime and Suprax are actually the same drug, just alias.\n",
    "df[df[\"review\"].str.contains(\"This drug got me well when NOTHING else would\")]"
   ]
  },
  {
   "cell_type": "code",
   "execution_count": 33,
   "id": "b7bb5f94",
   "metadata": {},
   "outputs": [],
   "source": [
    "# drop duplicated texts \n",
    "df.drop_duplicates(subset=[\"review\"],inplace=True)"
   ]
  },
  {
   "cell_type": "code",
   "execution_count": 34,
   "id": "68f7c541",
   "metadata": {},
   "outputs": [
    {
     "data": {
      "text/html": [
       "<div>\n",
       "<style scoped>\n",
       "    .dataframe tbody tr th:only-of-type {\n",
       "        vertical-align: middle;\n",
       "    }\n",
       "\n",
       "    .dataframe tbody tr th {\n",
       "        vertical-align: top;\n",
       "    }\n",
       "\n",
       "    .dataframe thead th {\n",
       "        text-align: right;\n",
       "    }\n",
       "</style>\n",
       "<table border=\"1\" class=\"dataframe\">\n",
       "  <thead>\n",
       "    <tr style=\"text-align: right;\">\n",
       "      <th></th>\n",
       "      <th>uniqueID</th>\n",
       "      <th>drugName</th>\n",
       "      <th>condition</th>\n",
       "      <th>review</th>\n",
       "      <th>rating</th>\n",
       "      <th>date</th>\n",
       "      <th>usefulCount</th>\n",
       "    </tr>\n",
       "  </thead>\n",
       "  <tbody>\n",
       "    <tr>\n",
       "      <th>0</th>\n",
       "      <td>0</td>\n",
       "      <td>Medroxyprogesterone</td>\n",
       "      <td>Abnormal Uterine Bleeding</td>\n",
       "      <td>\"Been on the depo injection since January 2015...</td>\n",
       "      <td>3</td>\n",
       "      <td>28-Oct-15</td>\n",
       "      <td>4</td>\n",
       "    </tr>\n",
       "    <tr>\n",
       "      <th>1</th>\n",
       "      <td>2</td>\n",
       "      <td>Medroxyprogesterone</td>\n",
       "      <td>Amenorrhea</td>\n",
       "      <td>\"I&amp;#039;m 21 years old and recently found out ...</td>\n",
       "      <td>10</td>\n",
       "      <td>27-Oct-15</td>\n",
       "      <td>11</td>\n",
       "    </tr>\n",
       "    <tr>\n",
       "      <th>2</th>\n",
       "      <td>3</td>\n",
       "      <td>Medroxyprogesterone</td>\n",
       "      <td>Abnormal Uterine Bleeding</td>\n",
       "      <td>\"I have been on the shot 11 years and until a ...</td>\n",
       "      <td>8</td>\n",
       "      <td>27-Oct-15</td>\n",
       "      <td>7</td>\n",
       "    </tr>\n",
       "    <tr>\n",
       "      <th>3</th>\n",
       "      <td>4</td>\n",
       "      <td>Medroxyprogesterone</td>\n",
       "      <td>Birth Control</td>\n",
       "      <td>\"Ive had four shots at this point. I was on bi...</td>\n",
       "      <td>9</td>\n",
       "      <td>26-Oct-15</td>\n",
       "      <td>12</td>\n",
       "    </tr>\n",
       "    <tr>\n",
       "      <th>4</th>\n",
       "      <td>5</td>\n",
       "      <td>Medroxyprogesterone</td>\n",
       "      <td>Abnormal Uterine Bleeding</td>\n",
       "      <td>\"I had a total of 3 shots. I got my first one ...</td>\n",
       "      <td>1</td>\n",
       "      <td>25-Oct-15</td>\n",
       "      <td>4</td>\n",
       "    </tr>\n",
       "    <tr>\n",
       "      <th>...</th>\n",
       "      <td>...</td>\n",
       "      <td>...</td>\n",
       "      <td>...</td>\n",
       "      <td>...</td>\n",
       "      <td>...</td>\n",
       "      <td>...</td>\n",
       "      <td>...</td>\n",
       "    </tr>\n",
       "    <tr>\n",
       "      <th>213860</th>\n",
       "      <td>232281</td>\n",
       "      <td>Amoxicillin / clavulanate</td>\n",
       "      <td>Sinusitis</td>\n",
       "      <td>\"I have my 5th sinus infection of the year (20...</td>\n",
       "      <td>9</td>\n",
       "      <td>9-Jul-17</td>\n",
       "      <td>15</td>\n",
       "    </tr>\n",
       "    <tr>\n",
       "      <th>213861</th>\n",
       "      <td>232282</td>\n",
       "      <td>Amoxicillin / clavulanate</td>\n",
       "      <td>Otitis Media</td>\n",
       "      <td>\"I&amp;#039;m not sure if I&amp;#039;m the only one wi...</td>\n",
       "      <td>1</td>\n",
       "      <td>5-Jul-17</td>\n",
       "      <td>1</td>\n",
       "    </tr>\n",
       "    <tr>\n",
       "      <th>213865</th>\n",
       "      <td>232288</td>\n",
       "      <td>Amoxicillin / clavulanate</td>\n",
       "      <td>Sinusitis</td>\n",
       "      <td>\"For acute maxillary sinusitis. Day two, just ...</td>\n",
       "      <td>9</td>\n",
       "      <td>21-Jun-17</td>\n",
       "      <td>14</td>\n",
       "    </tr>\n",
       "    <tr>\n",
       "      <th>213866</th>\n",
       "      <td>232289</td>\n",
       "      <td>Amoxicillin / clavulanate</td>\n",
       "      <td>Urinary Tract Infection</td>\n",
       "      <td>\"I took Amox Clav 2x day for 7 days for my uri...</td>\n",
       "      <td>4</td>\n",
       "      <td>17-Jun-17</td>\n",
       "      <td>2</td>\n",
       "    </tr>\n",
       "    <tr>\n",
       "      <th>213867</th>\n",
       "      <td>232290</td>\n",
       "      <td>Amoxicillin / clavulanate</td>\n",
       "      <td>Otitis Media</td>\n",
       "      <td>\"Day 1 - serious pain and diminished hearing i...</td>\n",
       "      <td>1</td>\n",
       "      <td>16-Jun-17</td>\n",
       "      <td>0</td>\n",
       "    </tr>\n",
       "  </tbody>\n",
       "</table>\n",
       "<p>128449 rows × 7 columns</p>\n",
       "</div>"
      ],
      "text/plain": [
       "        uniqueID                   drugName                  condition  \\\n",
       "0              0        Medroxyprogesterone  Abnormal Uterine Bleeding   \n",
       "1              2        Medroxyprogesterone                 Amenorrhea   \n",
       "2              3        Medroxyprogesterone  Abnormal Uterine Bleeding   \n",
       "3              4        Medroxyprogesterone              Birth Control   \n",
       "4              5        Medroxyprogesterone  Abnormal Uterine Bleeding   \n",
       "...          ...                        ...                        ...   \n",
       "213860    232281  Amoxicillin / clavulanate                  Sinusitis   \n",
       "213861    232282  Amoxicillin / clavulanate               Otitis Media   \n",
       "213865    232288  Amoxicillin / clavulanate                  Sinusitis   \n",
       "213866    232289  Amoxicillin / clavulanate    Urinary Tract Infection   \n",
       "213867    232290  Amoxicillin / clavulanate               Otitis Media   \n",
       "\n",
       "                                                   review  rating       date  \\\n",
       "0       \"Been on the depo injection since January 2015...       3  28-Oct-15   \n",
       "1       \"I&#039;m 21 years old and recently found out ...      10  27-Oct-15   \n",
       "2       \"I have been on the shot 11 years and until a ...       8  27-Oct-15   \n",
       "3       \"Ive had four shots at this point. I was on bi...       9  26-Oct-15   \n",
       "4       \"I had a total of 3 shots. I got my first one ...       1  25-Oct-15   \n",
       "...                                                   ...     ...        ...   \n",
       "213860  \"I have my 5th sinus infection of the year (20...       9   9-Jul-17   \n",
       "213861  \"I&#039;m not sure if I&#039;m the only one wi...       1   5-Jul-17   \n",
       "213865  \"For acute maxillary sinusitis. Day two, just ...       9  21-Jun-17   \n",
       "213866  \"I took Amox Clav 2x day for 7 days for my uri...       4  17-Jun-17   \n",
       "213867  \"Day 1 - serious pain and diminished hearing i...       1  16-Jun-17   \n",
       "\n",
       "        usefulCount  \n",
       "0                 4  \n",
       "1                11  \n",
       "2                 7  \n",
       "3                12  \n",
       "4                 4  \n",
       "...             ...  \n",
       "213860           15  \n",
       "213861            1  \n",
       "213865           14  \n",
       "213866            2  \n",
       "213867            0  \n",
       "\n",
       "[128449 rows x 7 columns]"
      ]
     },
     "execution_count": 34,
     "metadata": {},
     "output_type": "execute_result"
    }
   ],
   "source": [
    "df"
   ]
  },
  {
   "cell_type": "code",
   "execution_count": 35,
   "id": "c6808b47",
   "metadata": {},
   "outputs": [
    {
     "data": {
      "text/plain": [
       "1353      11</span> users found this comment helpful.\n",
       "1362      44</span> users found this comment helpful.\n",
       "1542      46</span> users found this comment helpful.\n",
       "2249      12</span> users found this comment helpful.\n",
       "2344       2</span> users found this comment helpful.\n",
       "                             ...                     \n",
       "212436     3</span> users found this comment helpful.\n",
       "212485    37</span> users found this comment helpful.\n",
       "212499    29</span> users found this comment helpful.\n",
       "212867     5</span> users found this comment helpful.\n",
       "213678    10</span> users found this comment helpful.\n",
       "Name: condition, Length: 1166, dtype: object"
      ]
     },
     "execution_count": 35,
     "metadata": {},
     "output_type": "execute_result"
    }
   ],
   "source": [
    "df[df[\"condition\"].str.contains(\"</span>\")][\"condition\"] "
   ]
  },
  {
   "cell_type": "code",
   "execution_count": 36,
   "id": "19894597",
   "metadata": {},
   "outputs": [],
   "source": [
    "# these 1171 rows have wrong condition info, but the reviews are still useful.\n",
    "df[df[\"condition\"].str.contains(\"</span>\")][\"condition\"] = \"Not Listed / Othe\""
   ]
  },
  {
   "cell_type": "code",
   "execution_count": 37,
   "id": "df4a15ad",
   "metadata": {},
   "outputs": [
    {
     "data": {
      "image/png": "[encoded data removed]",
      "text/plain": [
       "<Figure size 720x360 with 1 Axes>"
      ]
     },
     "metadata": {},
     "output_type": "display_data"
    }
   ],
   "source": [
    "# top 10 number of drugs \n",
    "condition_num = df.drugName.value_counts().sort_values(ascending=False)\n",
    "condition_num[:10].plot(kind=\"bar\", figsize = (10,5), color=sns.color_palette(\"tab20\"));\n",
    "plt.title(\"Top10 number of drugs\");"
   ]
  },
  {
   "cell_type": "code",
   "execution_count": 38,
   "id": "817d9254",
   "metadata": {},
   "outputs": [
    {
     "data": {
      "image/png": "[encoded data removed]",
      "text/plain": [
       "<Figure size 720x360 with 1 Axes>"
      ]
     },
     "metadata": {},
     "output_type": "display_data"
    }
   ],
   "source": [
    "# top 10 number of conditions\n",
    "condition_num = df.condition.value_counts().sort_values(ascending=False)\n",
    "condition_num[:10].plot(kind=\"bar\", figsize = (10,5), color=sns.color_palette(\"tab20\"));\n",
    "plt.title(\"Top10 number of conditions\");"
   ]
  },
  {
   "cell_type": "code",
   "execution_count": 39,
   "id": "cd81cedb",
   "metadata": {},
   "outputs": [
    {
     "data": {
      "image/png": "[encoded data removed]",
      "text/plain": [
       "<Figure size 720x360 with 1 Axes>"
      ]
     },
     "metadata": {},
     "output_type": "display_data"
    }
   ],
   "source": [
    "# top 10 number of drugs per each condtion\n",
    "condition_per_condtion = df.groupby(['condition'])['drugName'].nunique().sort_values(ascending=False)\n",
    "condition_per_condtion[0:10].plot(kind=\"bar\", figsize = (10,5), color=sns.color_palette(\"tab20\"));\n",
    "plt.title(\"Top10 number of drugs per condition\");"
   ]
  },
  {
   "cell_type": "code",
   "execution_count": 40,
   "id": "542be06d",
   "metadata": {},
   "outputs": [],
   "source": [
    "# Create a list of all drugs and their average ratings, cast to dataframe\n",
    "rate_ls = []\n",
    "\n",
    "for i in df.drugName.unique():\n",
    "    \n",
    "    # Only consider drugs that have at least 10 ratings\n",
    "    if np.sum(df.drugName == i) >= 10:\n",
    "        rate_ls.append((i, np.sum(df[df.drugName == i].rating) / np.sum(df.drugName == i)))\n",
    "    \n",
    "avg_rate = pd.DataFrame(rate_ls)"
   ]
  },
  {
   "cell_type": "code",
   "execution_count": 41,
   "id": "9d5f5da5",
   "metadata": {},
   "outputs": [
    {
     "data": {
      "text/html": [
       "<div>\n",
       "<style scoped>\n",
       "    .dataframe tbody tr th:only-of-type {\n",
       "        vertical-align: middle;\n",
       "    }\n",
       "\n",
       "    .dataframe tbody tr th {\n",
       "        vertical-align: top;\n",
       "    }\n",
       "\n",
       "    .dataframe thead th {\n",
       "        text-align: right;\n",
       "    }\n",
       "</style>\n",
       "<table border=\"1\" class=\"dataframe\">\n",
       "  <thead>\n",
       "    <tr style=\"text-align: right;\">\n",
       "      <th></th>\n",
       "      <th>0</th>\n",
       "      <th>1</th>\n",
       "    </tr>\n",
       "  </thead>\n",
       "  <tbody>\n",
       "    <tr>\n",
       "      <th>0</th>\n",
       "      <td>Privine</td>\n",
       "      <td>10.000000</td>\n",
       "    </tr>\n",
       "    <tr>\n",
       "      <th>1</th>\n",
       "      <td>Zutripro</td>\n",
       "      <td>10.000000</td>\n",
       "    </tr>\n",
       "    <tr>\n",
       "      <th>2</th>\n",
       "      <td>Drixoral Cold and Allergy</td>\n",
       "      <td>9.956522</td>\n",
       "    </tr>\n",
       "    <tr>\n",
       "      <th>3</th>\n",
       "      <td>Emend</td>\n",
       "      <td>9.916667</td>\n",
       "    </tr>\n",
       "    <tr>\n",
       "      <th>4</th>\n",
       "      <td>Silver sulfadiazine</td>\n",
       "      <td>9.808511</td>\n",
       "    </tr>\n",
       "    <tr>\n",
       "      <th>5</th>\n",
       "      <td>Tegaserod</td>\n",
       "      <td>9.772727</td>\n",
       "    </tr>\n",
       "    <tr>\n",
       "      <th>6</th>\n",
       "      <td>Loperamide</td>\n",
       "      <td>9.769231</td>\n",
       "    </tr>\n",
       "    <tr>\n",
       "      <th>7</th>\n",
       "      <td>Esterified estrogens / methyltestosterone</td>\n",
       "      <td>9.692308</td>\n",
       "    </tr>\n",
       "    <tr>\n",
       "      <th>8</th>\n",
       "      <td>Desoxyn</td>\n",
       "      <td>9.666667</td>\n",
       "    </tr>\n",
       "    <tr>\n",
       "      <th>9</th>\n",
       "      <td>Aspirin / butalbital / caffeine / codeine</td>\n",
       "      <td>9.652174</td>\n",
       "    </tr>\n",
       "  </tbody>\n",
       "</table>\n",
       "</div>"
      ],
      "text/plain": [
       "                                           0          1\n",
       "0                                    Privine  10.000000\n",
       "1                                   Zutripro  10.000000\n",
       "2                  Drixoral Cold and Allergy   9.956522\n",
       "3                                      Emend   9.916667\n",
       "4                        Silver sulfadiazine   9.808511\n",
       "5                                  Tegaserod   9.772727\n",
       "6                                 Loperamide   9.769231\n",
       "7  Esterified estrogens / methyltestosterone   9.692308\n",
       "8                                    Desoxyn   9.666667\n",
       "9  Aspirin / butalbital / caffeine / codeine   9.652174"
      ]
     },
     "execution_count": 41,
     "metadata": {},
     "output_type": "execute_result"
    }
   ],
   "source": [
    "# Sort drugs by their ratings, look at top 10 best and worst rated drugs\n",
    "avg_rate = avg_rate.sort_values(by=[1], ascending=False).reset_index(drop=True)\n",
    "avg_rate[:10]"
   ]
  },
  {
   "cell_type": "code",
   "execution_count": 42,
   "id": "b53f7b80",
   "metadata": {},
   "outputs": [
    {
     "data": {
      "text/html": [
       "<div>\n",
       "<style scoped>\n",
       "    .dataframe tbody tr th:only-of-type {\n",
       "        vertical-align: middle;\n",
       "    }\n",
       "\n",
       "    .dataframe tbody tr th {\n",
       "        vertical-align: top;\n",
       "    }\n",
       "\n",
       "    .dataframe thead th {\n",
       "        text-align: right;\n",
       "    }\n",
       "</style>\n",
       "<table border=\"1\" class=\"dataframe\">\n",
       "  <thead>\n",
       "    <tr style=\"text-align: right;\">\n",
       "      <th></th>\n",
       "      <th>0</th>\n",
       "      <th>1</th>\n",
       "    </tr>\n",
       "  </thead>\n",
       "  <tbody>\n",
       "    <tr>\n",
       "      <th>977</th>\n",
       "      <td>Belbuca</td>\n",
       "      <td>3.510204</td>\n",
       "    </tr>\n",
       "    <tr>\n",
       "      <th>978</th>\n",
       "      <td>Trimethoprim</td>\n",
       "      <td>3.500000</td>\n",
       "    </tr>\n",
       "    <tr>\n",
       "      <th>979</th>\n",
       "      <td>Brimonidine</td>\n",
       "      <td>3.425743</td>\n",
       "    </tr>\n",
       "    <tr>\n",
       "      <th>980</th>\n",
       "      <td>Delsym</td>\n",
       "      <td>3.375000</td>\n",
       "    </tr>\n",
       "    <tr>\n",
       "      <th>981</th>\n",
       "      <td>Visine Totality Multi-Symptom Relief</td>\n",
       "      <td>3.300000</td>\n",
       "    </tr>\n",
       "    <tr>\n",
       "      <th>982</th>\n",
       "      <td>Hydralazine</td>\n",
       "      <td>3.052632</td>\n",
       "    </tr>\n",
       "    <tr>\n",
       "      <th>983</th>\n",
       "      <td>Miconazole</td>\n",
       "      <td>2.924071</td>\n",
       "    </tr>\n",
       "    <tr>\n",
       "      <th>984</th>\n",
       "      <td>Rhofade</td>\n",
       "      <td>2.818182</td>\n",
       "    </tr>\n",
       "    <tr>\n",
       "      <th>985</th>\n",
       "      <td>Alendronate</td>\n",
       "      <td>2.689655</td>\n",
       "    </tr>\n",
       "    <tr>\n",
       "      <th>986</th>\n",
       "      <td>Systane</td>\n",
       "      <td>2.090909</td>\n",
       "    </tr>\n",
       "  </tbody>\n",
       "</table>\n",
       "</div>"
      ],
      "text/plain": [
       "                                        0         1\n",
       "977                               Belbuca  3.510204\n",
       "978                          Trimethoprim  3.500000\n",
       "979                           Brimonidine  3.425743\n",
       "980                                Delsym  3.375000\n",
       "981  Visine Totality Multi-Symptom Relief  3.300000\n",
       "982                           Hydralazine  3.052632\n",
       "983                            Miconazole  2.924071\n",
       "984                               Rhofade  2.818182\n",
       "985                           Alendronate  2.689655\n",
       "986                               Systane  2.090909"
      ]
     },
     "execution_count": 42,
     "metadata": {},
     "output_type": "execute_result"
    }
   ],
   "source": [
    "avg_rate[-10:]"
   ]
  },
  {
   "cell_type": "code",
   "execution_count": 43,
   "id": "e436c5e9",
   "metadata": {},
   "outputs": [
    {
     "data": {
      "image/png": "[encoded data removed]",
      "text/plain": [
       "<Figure size 576x432 with 1 Axes>"
      ]
     },
     "metadata": {},
     "output_type": "display_data"
    }
   ],
   "source": [
    "# plotting a dist plot\n",
    "plt.rcParams['figure.figsize'] = (8, 6)\n",
    "sns.distplot(df['usefulCount'])\n",
    "plt.title('The Distribution of Useful Counts')\n",
    "plt.xlabel('Range of Useful Counts')\n",
    "plt.ylabel('No. of Useful Counts')\n",
    "plt.show()"
   ]
  },
  {
   "cell_type": "code",
   "execution_count": 44,
   "id": "ae85f47f",
   "metadata": {},
   "outputs": [
    {
     "data": {
      "image/png": "[encoded data removed]",
      "text/plain": [
       "<Figure size 576x432 with 1 Axes>"
      ]
     },
     "metadata": {},
     "output_type": "display_data"
    }
   ],
   "source": [
    "plt.rcParams['figure.figsize'] = [8,6]\n",
    "sns.countplot(data=df,x=\"rating\",palette=\"tab20\");"
   ]
  },
  {
   "cell_type": "code",
   "execution_count": 45,
   "id": "87b99f94",
   "metadata": {},
   "outputs": [],
   "source": [
    "df.loc[:,\"sentiment\"] = \"\"\n",
    "df.loc[df[\"rating\"].isin([7,8,9,10]),\"sentiment\"] = 2\n",
    "df.loc[df[\"rating\"].isin([1,2,3]),\"sentiment\"] = 0\n",
    "df.loc[df[\"rating\"].isin([4,5,6]),\"sentiment\"] = 1"
   ]
  },
  {
   "cell_type": "code",
   "execution_count": 46,
   "id": "5f964339",
   "metadata": {},
   "outputs": [
    {
     "data": {
      "image/png": "[encoded data removed]",
      "text/plain": [
       "<Figure size 576x432 with 1 Axes>"
      ]
     },
     "metadata": {},
     "output_type": "display_data"
    }
   ],
   "source": [
    "label = df.sentiment.value_counts().index\n",
    "sizes = df.sentiment.value_counts().values\n",
    "plt.pie(x=sizes, labels=label,colors=sns.color_palette(\"Pastel1\"), autopct=\"%1.1f%%\");"
   ]
  },
  {
   "cell_type": "code",
   "execution_count": 47,
   "id": "5f574f45",
   "metadata": {},
   "outputs": [
    {
     "data": {
      "image/png": "[encoded data removed]",
      "text/plain": [
       "<Figure size 720x576 with 1 Axes>"
      ]
     },
     "metadata": {},
     "output_type": "display_data"
    }
   ],
   "source": [
    "# Word cloud of the all reviews\n",
    "\n",
    "from wordcloud import WordCloud\n",
    "df_all = df.loc[df.sentiment , 'review']\n",
    "k = (' '.join(df_all))\n",
    "\n",
    "wordcloud = WordCloud(width = 1000, height = 500, background_color = 'white').generate(k)\n",
    "plt.figure(figsize=(10, 8))\n",
    "plt.imshow(wordcloud, interpolation=\"bilinear\")\n",
    "plt.axis('off');"
   ]
  },
  {
   "cell_type": "code",
   "execution_count": null,
   "id": "78cd8716",
   "metadata": {},
   "outputs": [],
   "source": []
  },
  {
   "cell_type": "code",
   "execution_count": 48,
   "id": "ae98af3d",
   "metadata": {},
   "outputs": [],
   "source": [
    "\n",
    "from nltk.tokenize import sent_tokenize # tokenizes sentences\n",
    "from nltk.stem import PorterStemmer     # parsing/stemmer\n",
    "from nltk.tag import pos_tag            # parts-of-speech tagging\n",
    "from nltk.corpus import wordnet         # sentiment scores\n",
    "from nltk.stem import WordNetLemmatizer # stem and context\n",
    "from nltk.corpus import stopwords       # stopwords\n",
    "from nltk.util import ngrams            # ngram iterator\n",
    "from nltk.tokenize import word_tokenize\n",
    "\n",
    "\n",
    "# import word2vec\n",
    "from gensim.test.utils import datapath\n",
    "from gensim import utils\n",
    "from gensim.models import Word2Vec\n",
    "\n",
    "# import sklearn\n",
    "from sklearn import metrics\n",
    "from sklearn.metrics import confusion_matrix\n",
    "from sklearn.ensemble import RandomForestClassifier\n",
    "from sklearn.model_selection import train_test_split\n",
    "from sklearn.preprocessing import normalize, FunctionTransformer\n",
    "from sklearn.feature_extraction.text import CountVectorizer\n",
    "\n",
    "from bs4 import BeautifulSoup\n",
    "import nltk\n",
    "import re"
   ]
  },
  {
   "cell_type": "markdown",
   "id": "9b3f7226",
   "metadata": {},
   "source": [
    "nltk.download('averaged_perceptron_tagger')\n",
    "nltk.download('wordnet')\n",
    "nltk.download('stopwords')\n",
    "nltk.download('punkt')"
   ]
  },
  {
   "cell_type": "code",
   "execution_count": null,
   "id": "0437c425",
   "metadata": {},
   "outputs": [],
   "source": []
  },
  {
   "cell_type": "code",
   "execution_count": 49,
   "id": "b937c36d",
   "metadata": {},
   "outputs": [],
   "source": [
    "ps = PorterStemmer()\n",
    "wnl = WordNetLemmatizer()\n",
    "eng_stopwords = set(stopwords.words(\"english\"))\n",
    "\n",
    "\n",
    "def review_cleaner(review, lemmatize=True, stem=False):\n",
    "    '''\n",
    "        Clean and preprocess a review.\n",
    "            1. Remove HTML tags\n",
    "            2. Extract emoticons\n",
    "            3. Use regex to remove all special characters (only keep letters)\n",
    "            4. Make strings to lower case and tokenize / word split reviews\n",
    "            5. Remove English stopwords\n",
    "            6. Lemmatize\n",
    "            7. Rejoin to one string\n",
    "        \n",
    "        @review (type:str) is an unprocessed review string\n",
    "        @return (type:str) is a 6-step preprocessed review string\n",
    "    '''\n",
    "    if lemmatize == True and stem == True:\n",
    "        raise RuntimeError(\"May not pass both lemmatize and stem flags\")\n",
    "\n",
    "    #1. Remove HTML tags\n",
    "    review = BeautifulSoup(review, \"lxml\").text\n",
    "\n",
    "    #2. Use regex to find emoticons\n",
    "    pattern2 ='(?::|;|=)(?:-)?(?:\\)|\\(|D|P)'\n",
    "    emoticons = re.findall(pattern2,review)\n",
    "\n",
    "    #3. Remove punctuation\n",
    "    pattern3 = r\"[^\\w+ \\d+]\"\n",
    "    review = re.sub(pattern3, \"\",review)\n",
    "\n",
    "    #4. Tokenize into words (all lower case)\n",
    "    review = review.lower()\n",
    "\n",
    "    #5. Remove stopwords, Lemmatize, Stem\n",
    "        \n",
    "    word_tokens = word_tokenize(review)\n",
    "    filtered_sentence = [w for w in word_tokens if not w in eng_stopwords]\n",
    "    filtered_sentence = []\n",
    "    for w in word_tokens:\n",
    "         if w not in eng_stopwords:               \n",
    "                w = wnl.lemmatize(w)              \n",
    "                filtered_sentence.append(w)\n",
    "                \n",
    "    \n",
    "    #6. Join the review to one sentence\n",
    "    filtered_sentence = \" \".join(filtered_sentence+emoticons)        \n",
    "    \n",
    "    return filtered_sentence\n"
   ]
  },
  {
   "cell_type": "code",
   "execution_count": 50,
   "id": "fcb1e396",
   "metadata": {},
   "outputs": [
    {
     "name": "stdout",
     "output_type": "stream",
     "text": [
      "Wall time: 1min 58s\n"
     ]
    }
   ],
   "source": [
    "%time df['review_clean'] = df['review'].apply(review_cleaner)"
   ]
  },
  {
   "cell_type": "code",
   "execution_count": 51,
   "id": "3b842a6e",
   "metadata": {},
   "outputs": [],
   "source": [
    "df = df[['uniqueID','review_clean','sentiment','rating']]"
   ]
  },
  {
   "cell_type": "code",
   "execution_count": 52,
   "id": "c21f2119",
   "metadata": {},
   "outputs": [
    {
     "data": {
      "text/plain": [
       "0         51\n",
       "1         63\n",
       "2         29\n",
       "3         67\n",
       "4         70\n",
       "          ..\n",
       "213860    59\n",
       "213861    36\n",
       "213865    19\n",
       "213866    51\n",
       "213867    83\n",
       "Name: text_len, Length: 128449, dtype: int64"
      ]
     },
     "execution_count": 52,
     "metadata": {},
     "output_type": "execute_result"
    }
   ],
   "source": [
    "result = []\n",
    "for text in df.review_clean:\n",
    "        temp = len(text.split())\n",
    "        result.append(temp)\n",
    "        \n",
    "df[\"text_len\"] = result\n",
    "df[\"text_len\"]"
   ]
  },
  {
   "cell_type": "code",
   "execution_count": 53,
   "id": "811d84eb",
   "metadata": {},
   "outputs": [
    {
     "data": {
      "image/png": "[encoded data removed]",
      "text/plain": [
       "<Figure size 576x432 with 1 Axes>"
      ]
     },
     "metadata": {},
     "output_type": "display_data"
    }
   ],
   "source": [
    "# plotting a dist plot of text length\n",
    "plt.rcParams['figure.figsize'] = (8, 6)\n",
    "sns.distplot(df['text_len'])\n",
    "plt.title('The Distribution of text_len')\n",
    "plt.xlabel('Range of text_len')\n",
    "plt.ylabel('No. of text_len')\n",
    "plt.show()"
   ]
  },
  {
   "cell_type": "code",
   "execution_count": 54,
   "id": "2ba7339b",
   "metadata": {},
   "outputs": [],
   "source": [
    "from collections import defaultdict\n",
    "df_positive = df[df[\"rating\"].isin([7,8,9,10])]\n",
    "df_neutral = df[df[\"rating\"].isin([4,5,6])]\n",
    "df_negative = df[df[\"rating\"].isin([1,2,3])]"
   ]
  },
  {
   "cell_type": "code",
   "execution_count": 55,
   "id": "b1d615cf",
   "metadata": {},
   "outputs": [],
   "source": [
    "## custom function for ngram generation ##\n",
    "def generate_ngrams(text, n_gram=1):\n",
    "    token = [token for token in text.lower().split(\" \") if token != \"\" if token not in eng_stopwords]\n",
    "    ngrams = zip(*[token[i:] for i in range(n_gram)])\n",
    "    return [\" \".join(ngram) for ngram in ngrams]\n",
    "\n",
    "## custom function for horizontal bar chart ##\n",
    "def horizontal_bar_chart(df, color):\n",
    "    trace = go.Bar(\n",
    "        y=df[\"word\"].values[::-1],\n",
    "        x=df[\"wordcount\"].values[::-1],\n",
    "        showlegend=False,\n",
    "        orientation = 'h',\n",
    "        marker=dict(\n",
    "            color=color,\n",
    "        ),\n",
    "    )\n",
    "    return trace"
   ]
  },
  {
   "cell_type": "code",
   "execution_count": 56,
   "id": "d740e604",
   "metadata": {},
   "outputs": [],
   "source": [
    "# !pip install chart-studio"
   ]
  },
  {
   "cell_type": "code",
   "execution_count": 57,
   "id": "c2e362e5",
   "metadata": {},
   "outputs": [
    {
     "data": {
      "text/html": [
       "        <script type=\"text/javascript\">\n",
       "        window.PlotlyConfig = {MathJaxConfig: 'local'};\n",
       "        if (window.MathJax) {MathJax.Hub.Config({SVG: {font: \"STIX-Web\"}});}\n",
       "        if (typeof require !== 'undefined') {\n",
       "        require.undef(\"plotly\");\n",
       "        requirejs.config({\n",
       "            paths: {\n",
       "                'plotly': ['https://cdn.plot.ly/plotly-2.4.2.min']\n",
       "            }\n",
       "        });\n",
       "        require(['plotly'], function(Plotly) {\n",
       "            window._Plotly = Plotly;\n",
       "        });\n",
       "        }\n",
       "        </script>\n",
       "        "
      ]
     },
     "metadata": {},
     "output_type": "display_data"
    }
   ],
   "source": [
    "from collections import defaultdict\n",
    "import plotly.graph_objects as go\n",
    "from chart_studio import plotly\n",
    "from plotly import tools\n",
    "from plotly.subplots import make_subplots\n",
    "import chart_studio.plotly as py\n",
    "import cufflinks as cf\n",
    "cf.go_offline()\n",
    "from plotly.offline import iplot\n",
    "\n",
    "freq_dict = defaultdict(int)\n",
    "for sent in df_negative[\"review_clean\"]:\n",
    "    for word in generate_ngrams(sent,4):\n",
    "        freq_dict[word] += 1\n",
    "fd_sorted = pd.DataFrame(sorted(freq_dict.items(), key=lambda x: x[1])[::-1])\n",
    "fd_sorted.columns = [\"word\", \"wordcount\"]\n",
    "trace1 = horizontal_bar_chart(fd_sorted.head(50), 'red')\n",
    "\n",
    "freq_dict = defaultdict(int)\n",
    "for sent in df_neutral[\"review_clean\"]:\n",
    "    for word in generate_ngrams(sent,4):\n",
    "        freq_dict[word] += 1\n",
    "fd_sorted = pd.DataFrame(sorted(freq_dict.items(), key=lambda x: x[1])[::-1])\n",
    "fd_sorted.columns = [\"word\", \"wordcount\"]\n",
    "trace2 = horizontal_bar_chart(fd_sorted.head(50), 'red')\n",
    "\n",
    "freq_dict = defaultdict(int)\n",
    "for sent in df_positive[\"review_clean\"]:\n",
    "    for word in generate_ngrams(sent,4):\n",
    "        freq_dict[word] += 1\n",
    "fd_sorted = pd.DataFrame(sorted(freq_dict.items(), key=lambda x: x[1])[::-1])\n",
    "fd_sorted.columns = [\"word\", \"wordcount\"]\n",
    "trace3 = horizontal_bar_chart(fd_sorted.head(50), 'red')\n"
   ]
  },
  {
   "cell_type": "code",
   "execution_count": 58,
   "id": "a811d8b0",
   "metadata": {},
   "outputs": [
    {
     "data": {
      "text/html": [
       "        <script type=\"text/javascript\">\n",
       "        window.PlotlyConfig = {MathJaxConfig: 'local'};\n",
       "        if (window.MathJax) {MathJax.Hub.Config({SVG: {font: \"STIX-Web\"}});}\n",
       "        if (typeof require !== 'undefined') {\n",
       "        require.undef(\"plotly\");\n",
       "        requirejs.config({\n",
       "            paths: {\n",
       "                'plotly': ['https://cdn.plot.ly/plotly-2.4.2.min']\n",
       "            }\n",
       "        });\n",
       "        require(['plotly'], function(Plotly) {\n",
       "            window._Plotly = Plotly;\n",
       "        });\n",
       "        }\n",
       "        </script>\n",
       "        "
      ]
     },
     "metadata": {},
     "output_type": "display_data"
    }
   ],
   "source": [
    "import plotly.graph_objects as go\n",
    "from chart_studio import plotly\n",
    "from plotly import tools\n",
    "from plotly.subplots import make_subplots\n",
    "import chart_studio.plotly as py\n",
    "import cufflinks as cf\n",
    "cf.go_offline()\n",
    "from plotly.offline import iplot"
   ]
  },
  {
   "cell_type": "code",
   "execution_count": 59,
   "id": "001ea959",
   "metadata": {},
   "outputs": [
    {
     "data": {
      "application/vnd.plotly.v1+json": {
       "config": {
        "plotlyServerURL": "https://plot.ly"
       },
       "data": [
        {
         "marker": {
          "color": "red"
         },
         "orientation": "h",
         "showlegend": false,
         "type": "bar",
         "x": [
          14,
          14,
          15,
          15,
          15,
          15,
          15,
          15,
          15,
          15,
          15,
          15,
          16,
          16,
          16,
          16,
          16,
          16,
          16,
          17,
          17,
          17,
          17,
          18,
          18,
          18,
          18,
          19,
          19,
          20,
          20,
          21,
          21,
          21,
          21,
          23,
          23,
          25,
          25,
          25,
          26,
          26,
          28,
          29,
          29,
          32,
          32,
          34,
          40,
          50
         ],
         "xaxis": "x",
         "y": [
          "ever since started taking",
          "birth control ever taken",
          "sex drive completely gone",
          "would recommend drug anyone",
          "worst thing ive ever",
          "taking pill every day",
          "mood swing sex drive",
          "worst medication ive ever",
          "could barely get bed",
          "worst medication ever taken",
          "worst decision ever made",
          "side effect arent worth",
          "first time birth control",
          "chest pain shortness breath",
          "side effect went away",
          "worst experience ive ever",
          "get worse get better",
          "never experienced anything like",
          "ive gained 20 pound",
          "take pill every day",
          "havent stopped bleeding since",
          "side effect dry mouth",
          "taking birth control pill",
          "ive gained 10 pound",
          "weight gain mood swing",
          "pain ive ever felt",
          "really bad side effect",
          "im going stop taking",
          "first birth control pill",
          "birth control side effect",
          "short term memory loss",
          "im 18 year old",
          "felt like going pas",
          "full blown panic attack",
          "worst pain ive ever",
          "side effect weight gain",
          "started taking birth control",
          "wish would read review",
          "felt like going die",
          "side effect go away",
          "worst birth control ive",
          "im 20 year old",
          "ortho tri cyclen lo",
          "recommend birth control anyone",
          "would never recommend anyone",
          "would recommend birth control",
          "mood swing weight gain",
          "birth control ive ever",
          "feel like im going",
          "worst birth control ever"
         ],
         "yaxis": "y"
        },
        {
         "marker": {
          "color": "red"
         },
         "orientation": "h",
         "showlegend": false,
         "type": "bar",
         "x": [
          8,
          8,
          8,
          9,
          9,
          9,
          9,
          9,
          10,
          10,
          10,
          10,
          10,
          10,
          10,
          10,
          11,
          11,
          11,
          11,
          11,
          12,
          12,
          12,
          12,
          12,
          12,
          12,
          12,
          13,
          13,
          13,
          13,
          13,
          13,
          14,
          16,
          16,
          16,
          16,
          17,
          18,
          18,
          18,
          20,
          20,
          21,
          22,
          22,
          37
         ],
         "xaxis": "x2",
         "y": [
          "first time last night",
          "gained 20 pound since",
          "pain ive ever experienced",
          "today first day taking",
          "im hoping go away",
          "birth control ive ever",
          "im 27 year old",
          "mg 3 time day",
          "birth control side effect",
          "completely lost sex drive",
          "side effect went away",
          "mg three time day",
          "blood pressure side effect",
          "month first 3 month",
          "remember take pill everyday",
          "weight gain side effect",
          "twice day 7 day",
          "period every 3 month",
          "short term memory loss",
          "im 21 year old",
          "hot flash night sweat",
          "side effect hot flash",
          "side effect birth control",
          "im 17 year old",
          "side effect arent worth",
          "sex drive weight gain",
          "ive taking birth control",
          "mood swing sex drive",
          "side effect ive experienced",
          "really bad mood swing",
          "ever since started taking",
          "first birth control ever",
          "im 18 year old",
          "im 19 year old",
          "worst pain ive ever",
          "take pill every day",
          "taking birth control pill",
          "post traumatic stress disorder",
          "first birth control pill",
          "im going stop taking",
          "first time birth control",
          "feel like im going",
          "started taking birth control",
          "ortho tri cyclen lo",
          "weight gain mood swing",
          "side effect dry mouth",
          "mood swing weight gain",
          "side effect weight gain",
          "get worse get better",
          "side effect go away"
         ],
         "yaxis": "y2"
        },
        {
         "marker": {
          "color": "red"
         },
         "orientation": "h",
         "showlegend": false,
         "type": "bar",
         "x": [
          40,
          40,
          41,
          41,
          41,
          42,
          42,
          44,
          45,
          46,
          49,
          50,
          50,
          50,
          50,
          51,
          52,
          53,
          54,
          54,
          55,
          55,
          55,
          55,
          55,
          56,
          56,
          57,
          57,
          59,
          60,
          62,
          63,
          63,
          66,
          68,
          68,
          70,
          74,
          92,
          94,
          99,
          102,
          110,
          112,
          112,
          114,
          158,
          186,
          269
         ],
         "xaxis": "x3",
         "y": [
          "3 month side effect",
          "felt like new person",
          "feel great side effect",
          "first week side effect",
          "mg three time day",
          "long term side effect",
          "feel like life back",
          "taking birth control pill",
          "dont remember take pill",
          "im 21 year old",
          "much better side effect",
          "first birth control ive",
          "side effect first week",
          "side effect side effect",
          "severe anxiety panic attack",
          "best birth control ive",
          "hot flash night sweat",
          "work great side effect",
          "weight gain side effect",
          "best thing ever happened",
          "best decision ever made",
          "take pill every day",
          "didnt experience side effect",
          "mg 3 time day",
          "first time long time",
          "started taking birth control",
          "get worse get better",
          "im 19 year old",
          "first birth control pill",
          "dont know would without",
          "birth control ive ever",
          "feel like normal person",
          "havent noticed side effect",
          "plan b one step",
          "im 18 year old",
          "havent experienced side effect",
          "im 20 year old",
          "get good night sleep",
          "experienced negative side effect",
          "side effect go away",
          "feel like old self",
          "mood swing weight gain",
          "side effect went away",
          "side effect ive experienced",
          "side effect ive noticed",
          "weight gain mood swing",
          "feel like new person",
          "post traumatic stress disorder",
          "side effect weight gain",
          "side effect dry mouth"
         ],
         "yaxis": "y3"
        }
       ],
       "layout": {
        "annotations": [
         {
          "font": {
           "size": 16
          },
          "showarrow": false,
          "text": "Frequent 4-grams of negative",
          "x": 0.11666666666666665,
          "xanchor": "center",
          "xref": "paper",
          "y": 1,
          "yanchor": "bottom",
          "yref": "paper"
         },
         {
          "font": {
           "size": 16
          },
          "showarrow": false,
          "text": "Frequent 4-grams of neutral",
          "x": 0.49999999999999994,
          "xanchor": "center",
          "xref": "paper",
          "y": 1,
          "yanchor": "bottom",
          "yref": "paper"
         },
         {
          "font": {
           "size": 16
          },
          "showarrow": false,
          "text": "Frequent 4-grams of positive",
          "x": 0.8833333333333333,
          "xanchor": "center",
          "xref": "paper",
          "y": 1,
          "yanchor": "bottom",
          "yref": "paper"
         }
        ],
        "height": 1200,
        "paper_bgcolor": "rgb(233,233,233)",
        "template": {
         "data": {
          "bar": [
           {
            "error_x": {
             "color": "#2a3f5f"
            },
            "error_y": {
             "color": "#2a3f5f"
            },
            "marker": {
             "line": {
              "color": "#E5ECF6",
              "width": 0.5
             },
             "pattern": {
              "fillmode": "overlay",
              "size": 10,
              "solidity": 0.2
             }
            },
            "type": "bar"
           }
          ],
          "barpolar": [
           {
            "marker": {
             "line": {
              "color": "#E5ECF6",
              "width": 0.5
             },
             "pattern": {
              "fillmode": "overlay",
              "size": 10,
              "solidity": 0.2
             }
            },
            "type": "barpolar"
           }
          ],
          "carpet": [
           {
            "aaxis": {
             "endlinecolor": "#2a3f5f",
             "gridcolor": "white",
             "linecolor": "white",
             "minorgridcolor": "white",
             "startlinecolor": "#2a3f5f"
            },
            "baxis": {
             "endlinecolor": "#2a3f5f",
             "gridcolor": "white",
             "linecolor": "white",
             "minorgridcolor": "white",
             "startlinecolor": "#2a3f5f"
            },
            "type": "carpet"
           }
          ],
          "choropleth": [
           {
            "colorbar": {
             "outlinewidth": 0,
             "ticks": ""
            },
            "type": "choropleth"
           }
          ],
          "contour": [
           {
            "colorbar": {
             "outlinewidth": 0,
             "ticks": ""
            },
            "colorscale": [
             [
              0,
              "#0d0887"
             ],
             [
              0.1111111111111111,
              "#46039f"
             ],
             [
              0.2222222222222222,
              "#7201a8"
             ],
             [
              0.3333333333333333,
              "#9c179e"
             ],
             [
              0.4444444444444444,
              "#bd3786"
             ],
             [
              0.5555555555555556,
              "#d8576b"
             ],
             [
              0.6666666666666666,
              "#ed7953"
             ],
             [
              0.7777777777777778,
              "#fb9f3a"
             ],
             [
              0.8888888888888888,
              "#fdca26"
             ],
             [
              1,
              "#f0f921"
             ]
            ],
            "type": "contour"
           }
          ],
          "contourcarpet": [
           {
            "colorbar": {
             "outlinewidth": 0,
             "ticks": ""
            },
            "type": "contourcarpet"
           }
          ],
          "heatmap": [
           {
            "colorbar": {
             "outlinewidth": 0,
             "ticks": ""
            },
            "colorscale": [
             [
              0,
              "#0d0887"
             ],
             [
              0.1111111111111111,
              "#46039f"
             ],
             [
              0.2222222222222222,
              "#7201a8"
             ],
             [
              0.3333333333333333,
              "#9c179e"
             ],
             [
              0.4444444444444444,
              "#bd3786"
             ],
             [
              0.5555555555555556,
              "#d8576b"
             ],
             [
              0.6666666666666666,
              "#ed7953"
             ],
             [
              0.7777777777777778,
              "#fb9f3a"
             ],
             [
              0.8888888888888888,
              "#fdca26"
             ],
             [
              1,
              "#f0f921"
             ]
            ],
            "type": "heatmap"
           }
          ],
          "heatmapgl": [
           {
            "colorbar": {
             "outlinewidth": 0,
             "ticks": ""
            },
            "colorscale": [
             [
              0,
              "#0d0887"
             ],
             [
              0.1111111111111111,
              "#46039f"
             ],
             [
              0.2222222222222222,
              "#7201a8"
             ],
             [
              0.3333333333333333,
              "#9c179e"
             ],
             [
              0.4444444444444444,
              "#bd3786"
             ],
             [
              0.5555555555555556,
              "#d8576b"
             ],
             [
              0.6666666666666666,
              "#ed7953"
             ],
             [
              0.7777777777777778,
              "#fb9f3a"
             ],
             [
              0.8888888888888888,
              "#fdca26"
             ],
             [
              1,
              "#f0f921"
             ]
            ],
            "type": "heatmapgl"
           }
          ],
          "histogram": [
           {
            "marker": {
             "pattern": {
              "fillmode": "overlay",
              "size": 10,
              "solidity": 0.2
             }
            },
            "type": "histogram"
           }
          ],
          "histogram2d": [
           {
            "colorbar": {
             "outlinewidth": 0,
             "ticks": ""
            },
            "colorscale": [
             [
              0,
              "#0d0887"
             ],
             [
              0.1111111111111111,
              "#46039f"
             ],
             [
              0.2222222222222222,
              "#7201a8"
             ],
             [
              0.3333333333333333,
              "#9c179e"
             ],
             [
              0.4444444444444444,
              "#bd3786"
             ],
             [
              0.5555555555555556,
              "#d8576b"
             ],
             [
              0.6666666666666666,
              "#ed7953"
             ],
             [
              0.7777777777777778,
              "#fb9f3a"
             ],
             [
              0.8888888888888888,
              "#fdca26"
             ],
             [
              1,
              "#f0f921"
             ]
            ],
            "type": "histogram2d"
           }
          ],
          "histogram2dcontour": [
           {
            "colorbar": {
             "outlinewidth": 0,
             "ticks": ""
            },
            "colorscale": [
             [
              0,
              "#0d0887"
             ],
             [
              0.1111111111111111,
              "#46039f"
             ],
             [
              0.2222222222222222,
              "#7201a8"
             ],
             [
              0.3333333333333333,
              "#9c179e"
             ],
             [
              0.4444444444444444,
              "#bd3786"
             ],
             [
              0.5555555555555556,
              "#d8576b"
             ],
             [
              0.6666666666666666,
              "#ed7953"
             ],
             [
              0.7777777777777778,
              "#fb9f3a"
             ],
             [
              0.8888888888888888,
              "#fdca26"
             ],
             [
              1,
              "#f0f921"
             ]
            ],
            "type": "histogram2dcontour"
           }
          ],
          "mesh3d": [
           {
            "colorbar": {
             "outlinewidth": 0,
             "ticks": ""
            },
            "type": "mesh3d"
           }
          ],
          "parcoords": [
           {
            "line": {
             "colorbar": {
              "outlinewidth": 0,
              "ticks": ""
             }
            },
            "type": "parcoords"
           }
          ],
          "pie": [
           {
            "automargin": true,
            "type": "pie"
           }
          ],
          "scatter": [
           {
            "marker": {
             "colorbar": {
              "outlinewidth": 0,
              "ticks": ""
             }
            },
            "type": "scatter"
           }
          ],
          "scatter3d": [
           {
            "line": {
             "colorbar": {
              "outlinewidth": 0,
              "ticks": ""
             }
            },
            "marker": {
             "colorbar": {
              "outlinewidth": 0,
              "ticks": ""
             }
            },
            "type": "scatter3d"
           }
          ],
          "scattercarpet": [
           {
            "marker": {
             "colorbar": {
              "outlinewidth": 0,
              "ticks": ""
             }
            },
            "type": "scattercarpet"
           }
          ],
          "scattergeo": [
           {
            "marker": {
             "colorbar": {
              "outlinewidth": 0,
              "ticks": ""
             }
            },
            "type": "scattergeo"
           }
          ],
          "scattergl": [
           {
            "marker": {
             "colorbar": {
              "outlinewidth": 0,
              "ticks": ""
             }
            },
            "type": "scattergl"
           }
          ],
          "scattermapbox": [
           {
            "marker": {
             "colorbar": {
              "outlinewidth": 0,
              "ticks": ""
             }
            },
            "type": "scattermapbox"
           }
          ],
          "scatterpolar": [
           {
            "marker": {
             "colorbar": {
              "outlinewidth": 0,
              "ticks": ""
             }
            },
            "type": "scatterpolar"
           }
          ],
          "scatterpolargl": [
           {
            "marker": {
             "colorbar": {
              "outlinewidth": 0,
              "ticks": ""
             }
            },
            "type": "scatterpolargl"
           }
          ],
          "scatterternary": [
           {
            "marker": {
             "colorbar": {
              "outlinewidth": 0,
              "ticks": ""
             }
            },
            "type": "scatterternary"
           }
          ],
          "surface": [
           {
            "colorbar": {
             "outlinewidth": 0,
             "ticks": ""
            },
            "colorscale": [
             [
              0,
              "#0d0887"
             ],
             [
              0.1111111111111111,
              "#46039f"
             ],
             [
              0.2222222222222222,
              "#7201a8"
             ],
             [
              0.3333333333333333,
              "#9c179e"
             ],
             [
              0.4444444444444444,
              "#bd3786"
             ],
             [
              0.5555555555555556,
              "#d8576b"
             ],
             [
              0.6666666666666666,
              "#ed7953"
             ],
             [
              0.7777777777777778,
              "#fb9f3a"
             ],
             [
              0.8888888888888888,
              "#fdca26"
             ],
             [
              1,
              "#f0f921"
             ]
            ],
            "type": "surface"
           }
          ],
          "table": [
           {
            "cells": {
             "fill": {
              "color": "#EBF0F8"
             },
             "line": {
              "color": "white"
             }
            },
            "header": {
             "fill": {
              "color": "#C8D4E3"
             },
             "line": {
              "color": "white"
             }
            },
            "type": "table"
           }
          ]
         },
         "layout": {
          "annotationdefaults": {
           "arrowcolor": "#2a3f5f",
           "arrowhead": 0,
           "arrowwidth": 1
          },
          "autotypenumbers": "strict",
          "coloraxis": {
           "colorbar": {
            "outlinewidth": 0,
            "ticks": ""
           }
          },
          "colorscale": {
           "diverging": [
            [
             0,
             "#8e0152"
            ],
            [
             0.1,
             "#c51b7d"
            ],
            [
             0.2,
             "#de77ae"
            ],
            [
             0.3,
             "#f1b6da"
            ],
            [
             0.4,
             "#fde0ef"
            ],
            [
             0.5,
             "#f7f7f7"
            ],
            [
             0.6,
             "#e6f5d0"
            ],
            [
             0.7,
             "#b8e186"
            ],
            [
             0.8,
             "#7fbc41"
            ],
            [
             0.9,
             "#4d9221"
            ],
            [
             1,
             "#276419"
            ]
           ],
           "sequential": [
            [
             0,
             "#0d0887"
            ],
            [
             0.1111111111111111,
             "#46039f"
            ],
            [
             0.2222222222222222,
             "#7201a8"
            ],
            [
             0.3333333333333333,
             "#9c179e"
            ],
            [
             0.4444444444444444,
             "#bd3786"
            ],
            [
             0.5555555555555556,
             "#d8576b"
            ],
            [
             0.6666666666666666,
             "#ed7953"
            ],
            [
             0.7777777777777778,
             "#fb9f3a"
            ],
            [
             0.8888888888888888,
             "#fdca26"
            ],
            [
             1,
             "#f0f921"
            ]
           ],
           "sequentialminus": [
            [
             0,
             "#0d0887"
            ],
            [
             0.1111111111111111,
             "#46039f"
            ],
            [
             0.2222222222222222,
             "#7201a8"
            ],
            [
             0.3333333333333333,
             "#9c179e"
            ],
            [
             0.4444444444444444,
             "#bd3786"
            ],
            [
             0.5555555555555556,
             "#d8576b"
            ],
            [
             0.6666666666666666,
             "#ed7953"
            ],
            [
             0.7777777777777778,
             "#fb9f3a"
            ],
            [
             0.8888888888888888,
             "#fdca26"
            ],
            [
             1,
             "#f0f921"
            ]
           ]
          },
          "colorway": [
           "#636efa",
           "#EF553B",
           "#00cc96",
           "#ab63fa",
           "#FFA15A",
           "#19d3f3",
           "#FF6692",
           "#B6E880",
           "#FF97FF",
           "#FECB52"
          ],
          "font": {
           "color": "#2a3f5f"
          },
          "geo": {
           "bgcolor": "white",
           "lakecolor": "white",
           "landcolor": "#E5ECF6",
           "showlakes": true,
           "showland": true,
           "subunitcolor": "white"
          },
          "hoverlabel": {
           "align": "left"
          },
          "hovermode": "closest",
          "mapbox": {
           "style": "light"
          },
          "paper_bgcolor": "white",
          "plot_bgcolor": "#E5ECF6",
          "polar": {
           "angularaxis": {
            "gridcolor": "white",
            "linecolor": "white",
            "ticks": ""
           },
           "bgcolor": "#E5ECF6",
           "radialaxis": {
            "gridcolor": "white",
            "linecolor": "white",
            "ticks": ""
           }
          },
          "scene": {
           "xaxis": {
            "backgroundcolor": "#E5ECF6",
            "gridcolor": "white",
            "gridwidth": 2,
            "linecolor": "white",
            "showbackground": true,
            "ticks": "",
            "zerolinecolor": "white"
           },
           "yaxis": {
            "backgroundcolor": "#E5ECF6",
            "gridcolor": "white",
            "gridwidth": 2,
            "linecolor": "white",
            "showbackground": true,
            "ticks": "",
            "zerolinecolor": "white"
           },
           "zaxis": {
            "backgroundcolor": "#E5ECF6",
            "gridcolor": "white",
            "gridwidth": 2,
            "linecolor": "white",
            "showbackground": true,
            "ticks": "",
            "zerolinecolor": "white"
           }
          },
          "shapedefaults": {
           "line": {
            "color": "#2a3f5f"
           }
          },
          "ternary": {
           "aaxis": {
            "gridcolor": "white",
            "linecolor": "white",
            "ticks": ""
           },
           "baxis": {
            "gridcolor": "white",
            "linecolor": "white",
            "ticks": ""
           },
           "bgcolor": "#E5ECF6",
           "caxis": {
            "gridcolor": "white",
            "linecolor": "white",
            "ticks": ""
           }
          },
          "title": {
           "x": 0.05
          },
          "xaxis": {
           "automargin": true,
           "gridcolor": "white",
           "linecolor": "white",
           "ticks": "",
           "title": {
            "standoff": 15
           },
           "zerolinecolor": "white",
           "zerolinewidth": 2
          },
          "yaxis": {
           "automargin": true,
           "gridcolor": "white",
           "linecolor": "white",
           "ticks": "",
           "title": {
            "standoff": 15
           },
           "zerolinecolor": "white",
           "zerolinewidth": 2
          }
         }
        },
        "title": {
         "text": "4-grams Count Plots"
        },
        "width": 1600,
        "xaxis": {
         "anchor": "y",
         "domain": [
          0,
          0.2333333333333333
         ]
        },
        "xaxis2": {
         "anchor": "y2",
         "domain": [
          0.3833333333333333,
          0.6166666666666666
         ]
        },
        "xaxis3": {
         "anchor": "y3",
         "domain": [
          0.7666666666666666,
          0.9999999999999999
         ]
        },
        "yaxis": {
         "anchor": "x",
         "domain": [
          0,
          1
         ]
        },
        "yaxis2": {
         "anchor": "x2",
         "domain": [
          0,
          1
         ]
        },
        "yaxis3": {
         "anchor": "x3",
         "domain": [
          0,
          1
         ]
        }
       }
      },
      "text/html": [
       "<div>                            <div id=\"d24c32d5-46ca-4112-bc82-6f3cb4b53e49\" class=\"plotly-graph-div\" style=\"height:1200px; width:1600px;\"></div>            <script type=\"text/javascript\">                require([\"plotly\"], function(Plotly) {                    window.PLOTLYENV=window.PLOTLYENV || {};                                    if (document.getElementById(\"d24c32d5-46ca-4112-bc82-6f3cb4b53e49\")) {                    Plotly.newPlot(                        \"d24c32d5-46ca-4112-bc82-6f3cb4b53e49\",                        [{\"marker\":{\"color\":\"red\"},\"orientation\":\"h\",\"showlegend\":false,\"type\":\"bar\",\"x\":[14,14,15,15,15,15,15,15,15,15,15,15,16,16,16,16,16,16,16,17,17,17,17,18,18,18,18,19,19,20,20,21,21,21,21,23,23,25,25,25,26,26,28,29,29,32,32,34,40,50],\"xaxis\":\"x\",\"y\":[\"ever since started taking\",\"birth control ever taken\",\"sex drive completely gone\",\"would recommend drug anyone\",\"worst thing ive ever\",\"taking pill every day\",\"mood swing sex drive\",\"worst medication ive ever\",\"could barely get bed\",\"worst medication ever taken\",\"worst decision ever made\",\"side effect arent worth\",\"first time birth control\",\"chest pain shortness breath\",\"side effect went away\",\"worst experience ive ever\",\"get worse get better\",\"never experienced anything like\",\"ive gained 20 pound\",\"take pill every day\",\"havent stopped bleeding since\",\"side effect dry mouth\",\"taking birth control pill\",\"ive gained 10 pound\",\"weight gain mood swing\",\"pain ive ever felt\",\"really bad side effect\",\"im going stop taking\",\"first birth control pill\",\"birth control side effect\",\"short term memory loss\",\"im 18 year old\",\"felt like going pas\",\"full blown panic attack\",\"worst pain ive ever\",\"side effect weight gain\",\"started taking birth control\",\"wish would read review\",\"felt like going die\",\"side effect go away\",\"worst birth control ive\",\"im 20 year old\",\"ortho tri cyclen lo\",\"recommend birth control anyone\",\"would never recommend anyone\",\"would recommend birth control\",\"mood swing weight gain\",\"birth control ive ever\",\"feel like im going\",\"worst birth control ever\"],\"yaxis\":\"y\"},{\"marker\":{\"color\":\"red\"},\"orientation\":\"h\",\"showlegend\":false,\"type\":\"bar\",\"x\":[8,8,8,9,9,9,9,9,10,10,10,10,10,10,10,10,11,11,11,11,11,12,12,12,12,12,12,12,12,13,13,13,13,13,13,14,16,16,16,16,17,18,18,18,20,20,21,22,22,37],\"xaxis\":\"x2\",\"y\":[\"first time last night\",\"gained 20 pound since\",\"pain ive ever experienced\",\"today first day taking\",\"im hoping go away\",\"birth control ive ever\",\"im 27 year old\",\"mg 3 time day\",\"birth control side effect\",\"completely lost sex drive\",\"side effect went away\",\"mg three time day\",\"blood pressure side effect\",\"month first 3 month\",\"remember take pill everyday\",\"weight gain side effect\",\"twice day 7 day\",\"period every 3 month\",\"short term memory loss\",\"im 21 year old\",\"hot flash night sweat\",\"side effect hot flash\",\"side effect birth control\",\"im 17 year old\",\"side effect arent worth\",\"sex drive weight gain\",\"ive taking birth control\",\"mood swing sex drive\",\"side effect ive experienced\",\"really bad mood swing\",\"ever since started taking\",\"first birth control ever\",\"im 18 year old\",\"im 19 year old\",\"worst pain ive ever\",\"take pill every day\",\"taking birth control pill\",\"post traumatic stress disorder\",\"first birth control pill\",\"im going stop taking\",\"first time birth control\",\"feel like im going\",\"started taking birth control\",\"ortho tri cyclen lo\",\"weight gain mood swing\",\"side effect dry mouth\",\"mood swing weight gain\",\"side effect weight gain\",\"get worse get better\",\"side effect go away\"],\"yaxis\":\"y2\"},{\"marker\":{\"color\":\"red\"},\"orientation\":\"h\",\"showlegend\":false,\"type\":\"bar\",\"x\":[40,40,41,41,41,42,42,44,45,46,49,50,50,50,50,51,52,53,54,54,55,55,55,55,55,56,56,57,57,59,60,62,63,63,66,68,68,70,74,92,94,99,102,110,112,112,114,158,186,269],\"xaxis\":\"x3\",\"y\":[\"3 month side effect\",\"felt like new person\",\"feel great side effect\",\"first week side effect\",\"mg three time day\",\"long term side effect\",\"feel like life back\",\"taking birth control pill\",\"dont remember take pill\",\"im 21 year old\",\"much better side effect\",\"first birth control ive\",\"side effect first week\",\"side effect side effect\",\"severe anxiety panic attack\",\"best birth control ive\",\"hot flash night sweat\",\"work great side effect\",\"weight gain side effect\",\"best thing ever happened\",\"best decision ever made\",\"take pill every day\",\"didnt experience side effect\",\"mg 3 time day\",\"first time long time\",\"started taking birth control\",\"get worse get better\",\"im 19 year old\",\"first birth control pill\",\"dont know would without\",\"birth control ive ever\",\"feel like normal person\",\"havent noticed side effect\",\"plan b one step\",\"im 18 year old\",\"havent experienced side effect\",\"im 20 year old\",\"get good night sleep\",\"experienced negative side effect\",\"side effect go away\",\"feel like old self\",\"mood swing weight gain\",\"side effect went away\",\"side effect ive experienced\",\"side effect ive noticed\",\"weight gain mood swing\",\"feel like new person\",\"post traumatic stress disorder\",\"side effect weight gain\",\"side effect dry mouth\"],\"yaxis\":\"y3\"}],                        {\"annotations\":[{\"font\":{\"size\":16},\"showarrow\":false,\"text\":\"Frequent 4-grams of negative\",\"x\":0.11666666666666665,\"xanchor\":\"center\",\"xref\":\"paper\",\"y\":1.0,\"yanchor\":\"bottom\",\"yref\":\"paper\"},{\"font\":{\"size\":16},\"showarrow\":false,\"text\":\"Frequent 4-grams of neutral\",\"x\":0.49999999999999994,\"xanchor\":\"center\",\"xref\":\"paper\",\"y\":1.0,\"yanchor\":\"bottom\",\"yref\":\"paper\"},{\"font\":{\"size\":16},\"showarrow\":false,\"text\":\"Frequent 4-grams of positive\",\"x\":0.8833333333333333,\"xanchor\":\"center\",\"xref\":\"paper\",\"y\":1.0,\"yanchor\":\"bottom\",\"yref\":\"paper\"}],\"height\":1200,\"paper_bgcolor\":\"rgb(233,233,233)\",\"template\":{\"data\":{\"bar\":[{\"error_x\":{\"color\":\"#2a3f5f\"},\"error_y\":{\"color\":\"#2a3f5f\"},\"marker\":{\"line\":{\"color\":\"#E5ECF6\",\"width\":0.5},\"pattern\":{\"fillmode\":\"overlay\",\"size\":10,\"solidity\":0.2}},\"type\":\"bar\"}],\"barpolar\":[{\"marker\":{\"line\":{\"color\":\"#E5ECF6\",\"width\":0.5},\"pattern\":{\"fillmode\":\"overlay\",\"size\":10,\"solidity\":0.2}},\"type\":\"barpolar\"}],\"carpet\":[{\"aaxis\":{\"endlinecolor\":\"#2a3f5f\",\"gridcolor\":\"white\",\"linecolor\":\"white\",\"minorgridcolor\":\"white\",\"startlinecolor\":\"#2a3f5f\"},\"baxis\":{\"endlinecolor\":\"#2a3f5f\",\"gridcolor\":\"white\",\"linecolor\":\"white\",\"minorgridcolor\":\"white\",\"startlinecolor\":\"#2a3f5f\"},\"type\":\"carpet\"}],\"choropleth\":[{\"colorbar\":{\"outlinewidth\":0,\"ticks\":\"\"},\"type\":\"choropleth\"}],\"contour\":[{\"colorbar\":{\"outlinewidth\":0,\"ticks\":\"\"},\"colorscale\":[[0.0,\"#0d0887\"],[0.1111111111111111,\"#46039f\"],[0.2222222222222222,\"#7201a8\"],[0.3333333333333333,\"#9c179e\"],[0.4444444444444444,\"#bd3786\"],[0.5555555555555556,\"#d8576b\"],[0.6666666666666666,\"#ed7953\"],[0.7777777777777778,\"#fb9f3a\"],[0.8888888888888888,\"#fdca26\"],[1.0,\"#f0f921\"]],\"type\":\"contour\"}],\"contourcarpet\":[{\"colorbar\":{\"outlinewidth\":0,\"ticks\":\"\"},\"type\":\"contourcarpet\"}],\"heatmap\":[{\"colorbar\":{\"outlinewidth\":0,\"ticks\":\"\"},\"colorscale\":[[0.0,\"#0d0887\"],[0.1111111111111111,\"#46039f\"],[0.2222222222222222,\"#7201a8\"],[0.3333333333333333,\"#9c179e\"],[0.4444444444444444,\"#bd3786\"],[0.5555555555555556,\"#d8576b\"],[0.6666666666666666,\"#ed7953\"],[0.7777777777777778,\"#fb9f3a\"],[0.8888888888888888,\"#fdca26\"],[1.0,\"#f0f921\"]],\"type\":\"heatmap\"}],\"heatmapgl\":[{\"colorbar\":{\"outlinewidth\":0,\"ticks\":\"\"},\"colorscale\":[[0.0,\"#0d0887\"],[0.1111111111111111,\"#46039f\"],[0.2222222222222222,\"#7201a8\"],[0.3333333333333333,\"#9c179e\"],[0.4444444444444444,\"#bd3786\"],[0.5555555555555556,\"#d8576b\"],[0.6666666666666666,\"#ed7953\"],[0.7777777777777778,\"#fb9f3a\"],[0.8888888888888888,\"#fdca26\"],[1.0,\"#f0f921\"]],\"type\":\"heatmapgl\"}],\"histogram\":[{\"marker\":{\"pattern\":{\"fillmode\":\"overlay\",\"size\":10,\"solidity\":0.2}},\"type\":\"histogram\"}],\"histogram2d\":[{\"colorbar\":{\"outlinewidth\":0,\"ticks\":\"\"},\"colorscale\":[[0.0,\"#0d0887\"],[0.1111111111111111,\"#46039f\"],[0.2222222222222222,\"#7201a8\"],[0.3333333333333333,\"#9c179e\"],[0.4444444444444444,\"#bd3786\"],[0.5555555555555556,\"#d8576b\"],[0.6666666666666666,\"#ed7953\"],[0.7777777777777778,\"#fb9f3a\"],[0.8888888888888888,\"#fdca26\"],[1.0,\"#f0f921\"]],\"type\":\"histogram2d\"}],\"histogram2dcontour\":[{\"colorbar\":{\"outlinewidth\":0,\"ticks\":\"\"},\"colorscale\":[[0.0,\"#0d0887\"],[0.1111111111111111,\"#46039f\"],[0.2222222222222222,\"#7201a8\"],[0.3333333333333333,\"#9c179e\"],[0.4444444444444444,\"#bd3786\"],[0.5555555555555556,\"#d8576b\"],[0.6666666666666666,\"#ed7953\"],[0.7777777777777778,\"#fb9f3a\"],[0.8888888888888888,\"#fdca26\"],[1.0,\"#f0f921\"]],\"type\":\"histogram2dcontour\"}],\"mesh3d\":[{\"colorbar\":{\"outlinewidth\":0,\"ticks\":\"\"},\"type\":\"mesh3d\"}],\"parcoords\":[{\"line\":{\"colorbar\":{\"outlinewidth\":0,\"ticks\":\"\"}},\"type\":\"parcoords\"}],\"pie\":[{\"automargin\":true,\"type\":\"pie\"}],\"scatter\":[{\"marker\":{\"colorbar\":{\"outlinewidth\":0,\"ticks\":\"\"}},\"type\":\"scatter\"}],\"scatter3d\":[{\"line\":{\"colorbar\":{\"outlinewidth\":0,\"ticks\":\"\"}},\"marker\":{\"colorbar\":{\"outlinewidth\":0,\"ticks\":\"\"}},\"type\":\"scatter3d\"}],\"scattercarpet\":[{\"marker\":{\"colorbar\":{\"outlinewidth\":0,\"ticks\":\"\"}},\"type\":\"scattercarpet\"}],\"scattergeo\":[{\"marker\":{\"colorbar\":{\"outlinewidth\":0,\"ticks\":\"\"}},\"type\":\"scattergeo\"}],\"scattergl\":[{\"marker\":{\"colorbar\":{\"outlinewidth\":0,\"ticks\":\"\"}},\"type\":\"scattergl\"}],\"scattermapbox\":[{\"marker\":{\"colorbar\":{\"outlinewidth\":0,\"ticks\":\"\"}},\"type\":\"scattermapbox\"}],\"scatterpolar\":[{\"marker\":{\"colorbar\":{\"outlinewidth\":0,\"ticks\":\"\"}},\"type\":\"scatterpolar\"}],\"scatterpolargl\":[{\"marker\":{\"colorbar\":{\"outlinewidth\":0,\"ticks\":\"\"}},\"type\":\"scatterpolargl\"}],\"scatterternary\":[{\"marker\":{\"colorbar\":{\"outlinewidth\":0,\"ticks\":\"\"}},\"type\":\"scatterternary\"}],\"surface\":[{\"colorbar\":{\"outlinewidth\":0,\"ticks\":\"\"},\"colorscale\":[[0.0,\"#0d0887\"],[0.1111111111111111,\"#46039f\"],[0.2222222222222222,\"#7201a8\"],[0.3333333333333333,\"#9c179e\"],[0.4444444444444444,\"#bd3786\"],[0.5555555555555556,\"#d8576b\"],[0.6666666666666666,\"#ed7953\"],[0.7777777777777778,\"#fb9f3a\"],[0.8888888888888888,\"#fdca26\"],[1.0,\"#f0f921\"]],\"type\":\"surface\"}],\"table\":[{\"cells\":{\"fill\":{\"color\":\"#EBF0F8\"},\"line\":{\"color\":\"white\"}},\"header\":{\"fill\":{\"color\":\"#C8D4E3\"},\"line\":{\"color\":\"white\"}},\"type\":\"table\"}]},\"layout\":{\"annotationdefaults\":{\"arrowcolor\":\"#2a3f5f\",\"arrowhead\":0,\"arrowwidth\":1},\"autotypenumbers\":\"strict\",\"coloraxis\":{\"colorbar\":{\"outlinewidth\":0,\"ticks\":\"\"}},\"colorscale\":{\"diverging\":[[0,\"#8e0152\"],[0.1,\"#c51b7d\"],[0.2,\"#de77ae\"],[0.3,\"#f1b6da\"],[0.4,\"#fde0ef\"],[0.5,\"#f7f7f7\"],[0.6,\"#e6f5d0\"],[0.7,\"#b8e186\"],[0.8,\"#7fbc41\"],[0.9,\"#4d9221\"],[1,\"#276419\"]],\"sequential\":[[0.0,\"#0d0887\"],[0.1111111111111111,\"#46039f\"],[0.2222222222222222,\"#7201a8\"],[0.3333333333333333,\"#9c179e\"],[0.4444444444444444,\"#bd3786\"],[0.5555555555555556,\"#d8576b\"],[0.6666666666666666,\"#ed7953\"],[0.7777777777777778,\"#fb9f3a\"],[0.8888888888888888,\"#fdca26\"],[1.0,\"#f0f921\"]],\"sequentialminus\":[[0.0,\"#0d0887\"],[0.1111111111111111,\"#46039f\"],[0.2222222222222222,\"#7201a8\"],[0.3333333333333333,\"#9c179e\"],[0.4444444444444444,\"#bd3786\"],[0.5555555555555556,\"#d8576b\"],[0.6666666666666666,\"#ed7953\"],[0.7777777777777778,\"#fb9f3a\"],[0.8888888888888888,\"#fdca26\"],[1.0,\"#f0f921\"]]},\"colorway\":[\"#636efa\",\"#EF553B\",\"#00cc96\",\"#ab63fa\",\"#FFA15A\",\"#19d3f3\",\"#FF6692\",\"#B6E880\",\"#FF97FF\",\"#FECB52\"],\"font\":{\"color\":\"#2a3f5f\"},\"geo\":{\"bgcolor\":\"white\",\"lakecolor\":\"white\",\"landcolor\":\"#E5ECF6\",\"showlakes\":true,\"showland\":true,\"subunitcolor\":\"white\"},\"hoverlabel\":{\"align\":\"left\"},\"hovermode\":\"closest\",\"mapbox\":{\"style\":\"light\"},\"paper_bgcolor\":\"white\",\"plot_bgcolor\":\"#E5ECF6\",\"polar\":{\"angularaxis\":{\"gridcolor\":\"white\",\"linecolor\":\"white\",\"ticks\":\"\"},\"bgcolor\":\"#E5ECF6\",\"radialaxis\":{\"gridcolor\":\"white\",\"linecolor\":\"white\",\"ticks\":\"\"}},\"scene\":{\"xaxis\":{\"backgroundcolor\":\"#E5ECF6\",\"gridcolor\":\"white\",\"gridwidth\":2,\"linecolor\":\"white\",\"showbackground\":true,\"ticks\":\"\",\"zerolinecolor\":\"white\"},\"yaxis\":{\"backgroundcolor\":\"#E5ECF6\",\"gridcolor\":\"white\",\"gridwidth\":2,\"linecolor\":\"white\",\"showbackground\":true,\"ticks\":\"\",\"zerolinecolor\":\"white\"},\"zaxis\":{\"backgroundcolor\":\"#E5ECF6\",\"gridcolor\":\"white\",\"gridwidth\":2,\"linecolor\":\"white\",\"showbackground\":true,\"ticks\":\"\",\"zerolinecolor\":\"white\"}},\"shapedefaults\":{\"line\":{\"color\":\"#2a3f5f\"}},\"ternary\":{\"aaxis\":{\"gridcolor\":\"white\",\"linecolor\":\"white\",\"ticks\":\"\"},\"baxis\":{\"gridcolor\":\"white\",\"linecolor\":\"white\",\"ticks\":\"\"},\"bgcolor\":\"#E5ECF6\",\"caxis\":{\"gridcolor\":\"white\",\"linecolor\":\"white\",\"ticks\":\"\"}},\"title\":{\"x\":0.05},\"xaxis\":{\"automargin\":true,\"gridcolor\":\"white\",\"linecolor\":\"white\",\"ticks\":\"\",\"title\":{\"standoff\":15},\"zerolinecolor\":\"white\",\"zerolinewidth\":2},\"yaxis\":{\"automargin\":true,\"gridcolor\":\"white\",\"linecolor\":\"white\",\"ticks\":\"\",\"title\":{\"standoff\":15},\"zerolinecolor\":\"white\",\"zerolinewidth\":2}}},\"title\":{\"text\":\"4-grams Count Plots\"},\"width\":1600,\"xaxis\":{\"anchor\":\"y\",\"domain\":[0.0,0.2333333333333333]},\"xaxis2\":{\"anchor\":\"y2\",\"domain\":[0.3833333333333333,0.6166666666666666]},\"xaxis3\":{\"anchor\":\"y3\",\"domain\":[0.7666666666666666,0.9999999999999999]},\"yaxis\":{\"anchor\":\"x\",\"domain\":[0.0,1.0]},\"yaxis2\":{\"anchor\":\"x2\",\"domain\":[0.0,1.0]},\"yaxis3\":{\"anchor\":\"x3\",\"domain\":[0.0,1.0]}},                        {\"responsive\": true}                    ).then(function(){\n",
       "                            \n",
       "var gd = document.getElementById('d24c32d5-46ca-4112-bc82-6f3cb4b53e49');\n",
       "var x = new MutationObserver(function (mutations, observer) {{\n",
       "        var display = window.getComputedStyle(gd).display;\n",
       "        if (!display || display === 'none') {{\n",
       "            console.log([gd, 'removed!']);\n",
       "            Plotly.purge(gd);\n",
       "            observer.disconnect();\n",
       "        }}\n",
       "}});\n",
       "\n",
       "// Listen for the removal of the full notebook cells\n",
       "var notebookContainer = gd.closest('#notebook-container');\n",
       "if (notebookContainer) {{\n",
       "    x.observe(notebookContainer, {childList: true});\n",
       "}}\n",
       "\n",
       "// Listen for the clearing of the current output cell\n",
       "var outputEl = gd.closest('.output');\n",
       "if (outputEl) {{\n",
       "    x.observe(outputEl, {childList: true});\n",
       "}}\n",
       "\n",
       "                        })                };                });            </script>        </div>"
      ]
     },
     "metadata": {},
     "output_type": "display_data"
    }
   ],
   "source": [
    "fig = tools.make_subplots(rows=1, cols=3, vertical_spacing=0.04,horizontal_spacing=0.15,\n",
    "                          subplot_titles=[\"Frequent 4-grams of negative\", \n",
    "                                          \"Frequent 4-grams of neutral\",\n",
    "                                          \"Frequent 4-grams of positive\"])\n",
    "fig.append_trace(trace1, 1, 1)\n",
    "fig.append_trace(trace2, 1, 2)\n",
    "fig.append_trace(trace3, 1, 3)\n",
    "fig['layout'].update(height=1200, width=1600, paper_bgcolor='rgb(233,233,233)', title=\"4-grams Count Plots\")\n",
    "fig.show()"
   ]
  }
 ],
 "metadata": {
  "kernelspec": {
   "display_name": "Python 3",
   "language": "python",
   "name": "python3"
  },
  "language_info": {
   "codemirror_mode": {
    "name": "ipython",
    "version": 3
   },
   "file_extension": ".py",
   "mimetype": "text/x-python",
   "name": "python",
   "nbconvert_exporter": "python",
   "pygments_lexer": "ipython3",
   "version": "3.8.8"
  },
  "toc": {
   "base_numbering": 1,
   "nav_menu": {},
   "number_sections": true,
   "sideBar": true,
   "skip_h1_title": false,
   "title_cell": "Table of Contents",
   "title_sidebar": "Contents",
   "toc_cell": false,
   "toc_position": {},
   "toc_section_display": true,
   "toc_window_display": false
  }
 },
 "nbformat": 4,
 "nbformat_minor": 5
}
